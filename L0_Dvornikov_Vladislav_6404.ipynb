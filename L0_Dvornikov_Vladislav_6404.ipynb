{
 "cells": [
  {
   "cell_type": "markdown",
   "metadata": {
    "id": "82OvPKEiEqjc"
   },
   "source": [
    "# Введение в MapReduce модель на Python\n"
   ]
  },
  {
   "cell_type": "code",
   "execution_count": 1,
   "metadata": {
    "id": "JQ2cvXLjICmI"
   },
   "outputs": [],
   "source": [
    "from typing import NamedTuple # requires python 3.6+\n",
    "from typing import Iterator"
   ]
  },
  {
   "cell_type": "code",
   "execution_count": 2,
   "metadata": {
    "id": "yjPHumVwEyEg"
   },
   "outputs": [],
   "source": [
    "def MAP(_, row:NamedTuple):\n",
    "  if (row.gender == 'female'):\n",
    "    yield (row.age, row)\n",
    "\n",
    "def REDUCE(age:str, rows:Iterator[NamedTuple]):\n",
    "  sum = 0\n",
    "  count = 0\n",
    "  for row in rows:\n",
    "    sum += row.social_contacts\n",
    "    count += 1\n",
    "  if (count > 0):\n",
    "    yield (age, sum/count)\n",
    "  else:\n",
    "    yield (age, 0)"
   ]
  },
  {
   "cell_type": "markdown",
   "metadata": {
    "id": "vBKMgpG_ilaZ"
   },
   "source": [
    "Модель элемента данных"
   ]
  },
  {
   "cell_type": "code",
   "execution_count": 4,
   "metadata": {
    "id": "Rv-XIjhTJPx3"
   },
   "outputs": [],
   "source": [
    "class User(NamedTuple):\n",
    "  id: int\n",
    "  age: str\n",
    "  social_contacts: int\n",
    "  gender: str"
   ]
  },
  {
   "cell_type": "code",
   "execution_count": 5,
   "metadata": {
    "id": "5KV0Ze2vQgu5"
   },
   "outputs": [],
   "source": [
    "input_collection = [\n",
    "    User(id=0, age=55, gender='male', social_contacts=20),\n",
    "    User(id=1, age=25, gender='female', social_contacts=240),\n",
    "    User(id=2, age=25, gender='female', social_contacts=500),\n",
    "    User(id=3, age=33, gender='female', social_contacts=800)\n",
    "]"
   ]
  },
  {
   "cell_type": "markdown",
   "metadata": {
    "id": "YFeqzyZxZIFZ"
   },
   "source": [
    "Функция RECORDREADER моделирует чтение элементов с диска или по сети."
   ]
  },
  {
   "cell_type": "code",
   "execution_count": 7,
   "metadata": {
    "id": "S5HR4E_GQoMJ"
   },
   "outputs": [],
   "source": [
    "def RECORDREADER():\n",
    "  return [(u.id, u) for u in input_collection]"
   ]
  },
  {
   "cell_type": "code",
   "execution_count": 8,
   "metadata": {
    "colab": {
     "base_uri": "https://localhost:8080/",
     "height": 85
    },
    "id": "NeEoWla-ROUy",
    "outputId": "94ca6e0e-4644-4282-acbf-1759d7ba2918"
   },
   "outputs": [
    {
     "data": {
      "text/plain": [
       "[(0, User(id=0, age=55, social_contacts=20, gender='male')),\n",
       " (1, User(id=1, age=25, social_contacts=240, gender='female')),\n",
       " (2, User(id=2, age=25, social_contacts=500, gender='female')),\n",
       " (3, User(id=3, age=33, social_contacts=800, gender='female'))]"
      ]
     },
     "execution_count": 8,
     "metadata": {},
     "output_type": "execute_result"
    }
   ],
   "source": [
    "list(RECORDREADER())"
   ]
  },
  {
   "cell_type": "code",
   "execution_count": 9,
   "metadata": {
    "id": "YB8orgPSZs8M"
   },
   "outputs": [],
   "source": [
    "def flatten(nested_iterable):\n",
    "  for iterable in nested_iterable:\n",
    "    for element in iterable:\n",
    "      yield element"
   ]
  },
  {
   "cell_type": "code",
   "execution_count": 10,
   "metadata": {
    "colab": {
     "base_uri": "https://localhost:8080/",
     "height": 68
    },
    "id": "74oyvDLaRmd5",
    "outputId": "c6147702-7153-47c7-a574-d5fe6abe29a8"
   },
   "outputs": [
    {
     "data": {
      "text/plain": [
       "[(25, User(id=1, age=25, social_contacts=240, gender='female')),\n",
       " (25, User(id=2, age=25, social_contacts=500, gender='female')),\n",
       " (33, User(id=3, age=33, social_contacts=800, gender='female'))]"
      ]
     },
     "execution_count": 10,
     "metadata": {},
     "output_type": "execute_result"
    }
   ],
   "source": [
    "map_output = flatten(map(lambda x: MAP(*x), RECORDREADER()))\n",
    "map_output = list(map_output) # materialize\n",
    "map_output"
   ]
  },
  {
   "cell_type": "code",
   "execution_count": 11,
   "metadata": {
    "id": "8ncYDJ3-VzDn"
   },
   "outputs": [],
   "source": [
    "def groupbykey(iterable):\n",
    "  t = {}\n",
    "  for (k2, v2) in iterable:\n",
    "    t[k2] = t.get(k2, []) + [v2]\n",
    "  return t.items()"
   ]
  },
  {
   "cell_type": "code",
   "execution_count": 12,
   "metadata": {
    "colab": {
     "base_uri": "https://localhost:8080/",
     "height": 85
    },
    "id": "cKzY_6COWOA2",
    "outputId": "e6791b12-e409-47e9-bcd4-e9f8ca8611bd"
   },
   "outputs": [
    {
     "data": {
      "text/plain": [
       "[(25,\n",
       "  [User(id=1, age=25, social_contacts=240, gender='female'),\n",
       "   User(id=2, age=25, social_contacts=500, gender='female')]),\n",
       " (33, [User(id=3, age=33, social_contacts=800, gender='female')])]"
      ]
     },
     "execution_count": 12,
     "metadata": {},
     "output_type": "execute_result"
    }
   ],
   "source": [
    "shuffle_output = groupbykey(map_output)\n",
    "shuffle_output = list(shuffle_output)\n",
    "shuffle_output"
   ]
  },
  {
   "cell_type": "code",
   "execution_count": 15,
   "metadata": {
    "colab": {
     "base_uri": "https://localhost:8080/",
     "height": 34
    },
    "id": "NlA7lkDDYL0t",
    "outputId": "6b25d03f-5c92-4f3b-f500-6d70acd598b7"
   },
   "outputs": [
    {
     "data": {
      "text/plain": [
       "[(25, 370.0), (33, 800.0)]"
      ]
     },
     "execution_count": 15,
     "metadata": {},
     "output_type": "execute_result"
    }
   ],
   "source": [
    "reduce_output = flatten(map(lambda x: REDUCE(*x), shuffle_output))\n",
    "reduce_output = list(reduce_output)\n",
    "reduce_output"
   ]
  },
  {
   "cell_type": "markdown",
   "metadata": {
    "id": "xf6qhHEtd6bI"
   },
   "source": [
    "Все действия одним конвейером!"
   ]
  },
  {
   "cell_type": "code",
   "execution_count": 25,
   "metadata": {
    "colab": {
     "base_uri": "https://localhost:8080/",
     "height": 34
    },
    "id": "dZaQGYxCdpw5",
    "outputId": "3f5c6425-e5c5-49d2-b2cd-ce58a9acc33c"
   },
   "outputs": [
    {
     "data": {
      "text/plain": [
       "[(25, 370.0), (33, 800.0)]"
      ]
     },
     "execution_count": 25,
     "metadata": {},
     "output_type": "execute_result"
    }
   ],
   "source": [
    "list(flatten(map(lambda x: REDUCE(*x), groupbykey(flatten(map(lambda x: MAP(*x), RECORDREADER()))))))"
   ]
  },
  {
   "cell_type": "markdown",
   "metadata": {
    "id": "Vq3EWRIpwSiJ"
   },
   "source": [
    "# **MapReduce**\n",
    "Выделим общую для всех пользователей часть системы в отдельную функцию высшего порядка. Это наиболее простая модель MapReduce, без учёта распределённого хранения данных.\n",
    "\n",
    "Пользователь для решения своей задачи реализует RECORDREADER, MAP, REDUCE."
   ]
  },
  {
   "cell_type": "code",
   "execution_count": 28,
   "metadata": {
    "id": "V1PZeQMwwVjc"
   },
   "outputs": [],
   "source": [
    "def flatten(nested_iterable):\n",
    "  for iterable in nested_iterable:\n",
    "    for element in iterable:\n",
    "      yield element\n",
    "\n",
    "def groupbykey(iterable):\n",
    "  t = {}\n",
    "  for (k2, v2) in iterable:\n",
    "    t[k2] = t.get(k2, []) + [v2]\n",
    "  return t.items()\n",
    "\n",
    "def MapReduce(RECORDREADER, MAP, REDUCE):\n",
    "  return flatten(map(lambda x: REDUCE(*x), groupbykey(flatten(map(lambda x: MAP(*x), RECORDREADER())))))"
   ]
  },
  {
   "cell_type": "markdown",
   "metadata": {
    "id": "iFIVrimep678"
   },
   "source": [
    "## Спецификация MapReduce\n",
    "\n",
    "\n",
    "\n",
    "```\n",
    "f (k1, v1) -> (k2,v2)*\n",
    "g (k2, v2*) -> (k3,v3)*\n",
    "\n",
    "mapreduce ((k1,v1)*) -> (k3,v3)*\n",
    "groupby ((k2,v2)*) -> (k2,v2*)*\n",
    "flatten (e2**) -> e2*\n",
    "\n",
    "mapreduce .map(f).flatten.groupby(k2).map(g).flatten\n",
    "```\n",
    "\n",
    "\n"
   ]
  },
  {
   "cell_type": "markdown",
   "metadata": {
    "id": "QtTFyqke3KGe"
   },
   "source": [
    "# Примеры"
   ]
  },
  {
   "cell_type": "markdown",
   "metadata": {
    "id": "BNhh5763w5Vn"
   },
   "source": [
    "## SQL"
   ]
  },
  {
   "cell_type": "code",
   "execution_count": 34,
   "metadata": {
    "colab": {
     "base_uri": "https://localhost:8080/",
     "height": 34
    },
    "id": "QkyurnvGxBGk",
    "outputId": "84761282-d2ba-435a-e8d7-a85150730e10"
   },
   "outputs": [
    {
     "data": {
      "text/plain": [
       "[(25, 370.0), (33, 800.0)]"
      ]
     },
     "execution_count": 34,
     "metadata": {},
     "output_type": "execute_result"
    }
   ],
   "source": [
    "from typing import NamedTuple # requires python 3.6+\n",
    "from typing import Iterator\n",
    "\n",
    "class User(NamedTuple):\n",
    "  id: int\n",
    "  age: str\n",
    "  social_contacts: int\n",
    "  gender: str\n",
    "\n",
    "input_collection = [\n",
    "    User(id=0, age=55, gender='male', social_contacts=20),\n",
    "    User(id=1, age=25, gender='female', social_contacts=240),\n",
    "    User(id=2, age=25, gender='female', social_contacts=500),\n",
    "    User(id=3, age=33, gender='female', social_contacts=800)\n",
    "]\n",
    "\n",
    "def MAP(_, row:NamedTuple):\n",
    "  if (row.gender == 'female'):\n",
    "    yield (row.age, row)\n",
    "\n",
    "def REDUCE(age:str, rows:Iterator[NamedTuple]):\n",
    "  sum = 0\n",
    "  count = 0\n",
    "  for row in rows:\n",
    "    sum += row.social_contacts\n",
    "    count += 1\n",
    "  if (count > 0):\n",
    "    yield (age, sum/count)\n",
    "  else:\n",
    "    yield (age, 0)\n",
    "\n",
    "def RECORDREADER():\n",
    "  return [(u.id, u) for u in input_collection]\n",
    "\n",
    "output = MapReduce(RECORDREADER, MAP, REDUCE)\n",
    "output = list(output)\n",
    "output"
   ]
  },
  {
   "cell_type": "markdown",
   "metadata": {
    "id": "kNKYIeerx0nY"
   },
   "source": [
    "## Matrix-Vector multiplication"
   ]
  },
  {
   "cell_type": "code",
   "execution_count": 37,
   "metadata": {
    "colab": {
     "base_uri": "https://localhost:8080/",
     "height": 102
    },
    "id": "rwcntRcCyi1V",
    "outputId": "606737ab-6b55-455c-931f-4fc45155f8a9"
   },
   "outputs": [
    {
     "data": {
      "text/plain": [
       "[(0, 2.344007620353042),\n",
       " (1, 2.344007620353042),\n",
       " (2, 2.344007620353042),\n",
       " (3, 2.344007620353042),\n",
       " (4, 2.344007620353042)]"
      ]
     },
     "execution_count": 37,
     "metadata": {},
     "output_type": "execute_result"
    }
   ],
   "source": [
    "from typing import Iterator\n",
    "import numpy as np\n",
    "\n",
    "mat = np.ones((5,4))\n",
    "vec = np.random.rand(4) # in-memory vector in all map tasks\n",
    "\n",
    "def MAP(coordinates:(int, int), value:int):\n",
    "  i, j = coordinates\n",
    "  yield (i, value*vec[j])\n",
    "\n",
    "def REDUCE(i:int, products:Iterator[NamedTuple]):\n",
    "  sum = 0\n",
    "  for p in products:\n",
    "    sum += p\n",
    "  yield (i, sum)\n",
    "\n",
    "def RECORDREADER():\n",
    "  for i in range(mat.shape[0]):\n",
    "    for j in range(mat.shape[1]):\n",
    "      yield ((i, j), mat[i,j])\n",
    "\n",
    "output = MapReduce(RECORDREADER, MAP, REDUCE)\n",
    "output = list(output)\n",
    "output"
   ]
  },
  {
   "cell_type": "markdown",
   "metadata": {
    "id": "ruZREYdi2o4O"
   },
   "source": [
    "## Inverted index"
   ]
  },
  {
   "cell_type": "code",
   "execution_count": 40,
   "metadata": {
    "colab": {
     "base_uri": "https://localhost:8080/",
     "height": 102
    },
    "id": "vt9H9Alf3TYv",
    "outputId": "51aeffc9-e111-4607-bd84-cfcc7b56f238"
   },
   "outputs": [
    {
     "data": {
      "text/plain": [
       "[('is', ['0', '1', '2']),\n",
       " ('what', ['0', '1']),\n",
       " ('it', ['0', '1', '2']),\n",
       " ('banana', ['2']),\n",
       " ('a', ['2'])]"
      ]
     },
     "execution_count": 40,
     "metadata": {},
     "output_type": "execute_result"
    }
   ],
   "source": [
    "from typing import Iterator\n",
    "\n",
    "d1 = \"it is what it is\"\n",
    "d2 = \"what is it\"\n",
    "d3 = \"it is a banana\"\n",
    "documents = [d1, d2, d3]\n",
    "\n",
    "def RECORDREADER():\n",
    "  for (docid, document) in enumerate(documents):\n",
    "    yield (\"{}\".format(docid), document)\n",
    "\n",
    "def MAP(docId:str, body:str):\n",
    "  for word in set(body.split(' ')):\n",
    "    yield (word, docId)\n",
    "\n",
    "def REDUCE(word:str, docIds:Iterator[str]):\n",
    "  yield (word, sorted(docIds))\n",
    "\n",
    "output = MapReduce(RECORDREADER, MAP, REDUCE)\n",
    "output = list(output)\n",
    "output"
   ]
  },
  {
   "cell_type": "markdown",
   "metadata": {
    "id": "R7az-6DA6qr2"
   },
   "source": [
    "## WordCount"
   ]
  },
  {
   "cell_type": "code",
   "execution_count": 43,
   "metadata": {
    "colab": {
     "base_uri": "https://localhost:8080/",
     "height": 34
    },
    "id": "dN-nbtgG6uYG",
    "outputId": "24117576-7931-401d-a581-28e246b23453"
   },
   "outputs": [
    {
     "data": {
      "text/plain": [
       "[('', 3), ('it', 9), ('is', 9), ('what', 5), ('a', 1), ('banana', 1)]"
      ]
     },
     "execution_count": 43,
     "metadata": {},
     "output_type": "execute_result"
    }
   ],
   "source": [
    "from typing import Iterator\n",
    "\n",
    "d1 = \"\"\"\n",
    "it is what it is\n",
    "it is what it is\n",
    "it is what it is\"\"\"\n",
    "d2 = \"\"\"\n",
    "what is it\n",
    "what is it\"\"\"\n",
    "d3 = \"\"\"\n",
    "it is a banana\"\"\"\n",
    "documents = [d1, d2, d3]\n",
    "\n",
    "def RECORDREADER():\n",
    "  for (docid, document) in enumerate(documents):\n",
    "    for (lineid, line) in enumerate(document.split('\\n')):\n",
    "      yield (\"{}:{}\".format(docid,lineid), line)\n",
    "\n",
    "def MAP(docId:str, line:str):\n",
    "  for word in line.split(\" \"):\n",
    "    yield (word, 1)\n",
    "\n",
    "def REDUCE(word:str, counts:Iterator[int]):\n",
    "  sum = 0\n",
    "  for c in counts:\n",
    "    sum += c\n",
    "  yield (word, sum)\n",
    "\n",
    "output = MapReduce(RECORDREADER, MAP, REDUCE)\n",
    "output = list(output)\n",
    "output"
   ]
  },
  {
   "cell_type": "markdown",
   "metadata": {
    "id": "h-jRAcYCAkkk"
   },
   "source": [
    "# MapReduce Distributed\n",
    "\n",
    "Добавляется в модель фабрика RECORDREARER-ов --- INPUTFORMAT, функция распределения промежуточных результатов по партициям PARTITIONER, и функция COMBINER для частичной аггрегации промежуточных результатов до распределения по новым партициям."
   ]
  },
  {
   "cell_type": "code",
   "execution_count": 46,
   "metadata": {
    "id": "nw-b-xJsApgW"
   },
   "outputs": [],
   "source": [
    "def flatten(nested_iterable):\n",
    "  for iterable in nested_iterable:\n",
    "    for element in iterable:\n",
    "      yield element\n",
    "\n",
    "def groupbykey(iterable):\n",
    "  t = {}\n",
    "  for (k2, v2) in iterable:\n",
    "    t[k2] = t.get(k2, []) + [v2]\n",
    "  return t.items()\n",
    "\n",
    "def groupbykey_distributed(map_partitions, PARTITIONER):\n",
    "  global reducers\n",
    "  partitions = [dict() for _ in range(reducers)]\n",
    "  for map_partition in map_partitions:\n",
    "    for (k2, v2) in map_partition:\n",
    "      p = partitions[PARTITIONER(k2)]\n",
    "      p[k2] = p.get(k2, []) + [v2]\n",
    "  return [(partition_id, sorted(partition.items(), key=lambda x: x[0])) for (partition_id, partition) in enumerate(partitions)]\n",
    "\n",
    "def PARTITIONER(obj):\n",
    "  global reducers\n",
    "  return hash(obj) % reducers\n",
    "\n",
    "def MapReduceDistributed(INPUTFORMAT, MAP, REDUCE, PARTITIONER=PARTITIONER, COMBINER=None):\n",
    "  map_partitions = map(lambda record_reader: flatten(map(lambda k1v1: MAP(*k1v1), record_reader)), INPUTFORMAT())\n",
    "  if COMBINER != None:\n",
    "    map_partitions = map(lambda map_partition: flatten(map(lambda k2v2: COMBINER(*k2v2), groupbykey(map_partition))), map_partitions)\n",
    "  reduce_partitions = groupbykey_distributed(map_partitions, PARTITIONER) # shuffle\n",
    "  reduce_outputs = map(lambda reduce_partition: (reduce_partition[0], flatten(map(lambda reduce_input_group: REDUCE(*reduce_input_group), reduce_partition[1]))), reduce_partitions)\n",
    "\n",
    "  print(\"{} key-value pairs were sent over a network.\".format(sum([len(vs) for (k,vs) in flatten([partition for (partition_id, partition) in reduce_partitions])])))\n",
    "  return reduce_outputs"
   ]
  },
  {
   "cell_type": "markdown",
   "metadata": {
    "id": "kxirlf3XqZxY"
   },
   "source": [
    "## Спецификация MapReduce Distributed\n",
    "\n",
    "\n",
    "```\n",
    "f (k1, v1) -> (k2,v2)*\n",
    "g (k2, v2*) -> (k3,v3)*\n",
    "\n",
    "e1 (k1, v1)\n",
    "e2 (k2, v2)\n",
    "partition1 (k2, v2)*\n",
    "partition2 (k2, v2*)*\n",
    "\n",
    "flatmap (e1->e2*, e1*) -> partition1*\n",
    "groupby (partition1*) -> partition2*\n",
    "\n",
    "mapreduce ((k1,v1)*) -> (k3,v3)*\n",
    "mapreduce .flatmap(f).groupby(k2).flatmap(g)\n",
    "```\n",
    "\n"
   ]
  },
  {
   "cell_type": "markdown",
   "metadata": {
    "id": "CWYw_CpbbY3C"
   },
   "source": [
    "## WordCount"
   ]
  },
  {
   "cell_type": "code",
   "execution_count": 50,
   "metadata": {
    "colab": {
     "base_uri": "https://localhost:8080/",
     "height": 68
    },
    "id": "uR_zfGFkMZlp",
    "outputId": "c8d46167-473d-43b9-881a-2396991b3731"
   },
   "outputs": [
    {
     "name": "stdout",
     "output_type": "stream",
     "text": [
      "56 key-value pairs were sent over a network.\n"
     ]
    },
    {
     "data": {
      "text/plain": [
       "[(0, [('', 6), ('is', 18), ('it', 18)]),\n",
       " (1, [('a', 2), ('banana', 2), ('what', 10)])]"
      ]
     },
     "execution_count": 50,
     "metadata": {},
     "output_type": "execute_result"
    }
   ],
   "source": [
    "from typing import Iterator\n",
    "import numpy as np\n",
    "\n",
    "d1 = \"\"\"\n",
    "it is what it is\n",
    "it is what it is\n",
    "it is what it is\"\"\"\n",
    "d2 = \"\"\"\n",
    "what is it\n",
    "what is it\"\"\"\n",
    "d3 = \"\"\"\n",
    "it is a banana\"\"\"\n",
    "documents = [d1, d2, d3, d1, d2, d3]\n",
    "\n",
    "maps = 3\n",
    "reducers = 2\n",
    "\n",
    "def INPUTFORMAT():\n",
    "  global maps\n",
    "\n",
    "  def RECORDREADER(split):\n",
    "    for (docid, document) in enumerate(split):\n",
    "      for (lineid, line) in enumerate(document.split('\\n')):\n",
    "        yield (\"{}:{}\".format(docid,lineid), line)\n",
    "\n",
    "  split_size =  int(np.ceil(len(documents)/maps))\n",
    "  for i in range(0, len(documents), split_size):\n",
    "    yield RECORDREADER(documents[i:i+split_size])\n",
    "\n",
    "def MAP(docId:str, line:str):\n",
    "  for word in line.split(\" \"):\n",
    "    yield (word, 1)\n",
    "\n",
    "def REDUCE(word:str, counts:Iterator[int]):\n",
    "  sum = 0\n",
    "  for c in counts:\n",
    "    sum += c\n",
    "  yield (word, sum)\n",
    "\n",
    "# try to set COMBINER=REDUCER and look at the number of values sent over the network\n",
    "partitioned_output = MapReduceDistributed(INPUTFORMAT, MAP, REDUCE, COMBINER=None)\n",
    "partitioned_output = [(partition_id, list(partition)) for (partition_id, partition) in partitioned_output]\n",
    "partitioned_output"
   ]
  },
  {
   "cell_type": "markdown",
   "metadata": {
    "id": "gCJGx8IQ87xS"
   },
   "source": [
    "## TeraSort"
   ]
  },
  {
   "cell_type": "code",
   "execution_count": 53,
   "metadata": {
    "colab": {
     "base_uri": "https://localhost:8080/",
     "height": 578
    },
    "id": "P2v8v1v_8_YR",
    "outputId": "e0987c25-9757-46cb-8e55-d5d2adfbee2b"
   },
   "outputs": [
    {
     "name": "stdout",
     "output_type": "stream",
     "text": [
      "30 key-value pairs were sent over a network.\n"
     ]
    },
    {
     "data": {
      "text/plain": [
       "[(0,\n",
       "  [(None, 0.01337871801508217),\n",
       "   (None, 0.02813006723196676),\n",
       "   (None, 0.10094669704128789),\n",
       "   (None, 0.15113115794266518),\n",
       "   (None, 0.16328666878732667),\n",
       "   (None, 0.18609264137929238),\n",
       "   (None, 0.18720636894496756),\n",
       "   (None, 0.20711726851595058),\n",
       "   (None, 0.24006670409924802),\n",
       "   (None, 0.26593258976339174),\n",
       "   (None, 0.26850888173462506),\n",
       "   (None, 0.31807051941443476),\n",
       "   (None, 0.34268009597440174),\n",
       "   (None, 0.3660284110287946),\n",
       "   (None, 0.3697696219126271),\n",
       "   (None, 0.41569604512268543),\n",
       "   (None, 0.4460953522525323),\n",
       "   (None, 0.4928113902649853),\n",
       "   (None, 0.49993776567480597)]),\n",
       " (1,\n",
       "  [(None, 0.5032931505464243),\n",
       "   (None, 0.5675448787944021),\n",
       "   (None, 0.582879245534588),\n",
       "   (None, 0.7747839171371524),\n",
       "   (None, 0.8292982445469145),\n",
       "   (None, 0.8790818622607203),\n",
       "   (None, 0.9023174917607603),\n",
       "   (None, 0.9223413249967685),\n",
       "   (None, 0.9497322915490252),\n",
       "   (None, 0.9726829897918838),\n",
       "   (None, 0.9923484926014428)])]"
      ]
     },
     "execution_count": 53,
     "metadata": {},
     "output_type": "execute_result"
    }
   ],
   "source": [
    "import numpy as np\n",
    "\n",
    "input_values = np.random.rand(30)\n",
    "maps = 3\n",
    "reducers = 2\n",
    "min_value = 0.0\n",
    "max_value = 1.0\n",
    "\n",
    "def INPUTFORMAT():\n",
    "  global maps\n",
    "\n",
    "  def RECORDREADER(split):\n",
    "    for value in split:\n",
    "        yield (value, None)\n",
    "\n",
    "  split_size =  int(np.ceil(len(input_values)/maps))\n",
    "  for i in range(0, len(input_values), split_size):\n",
    "    yield RECORDREADER(input_values[i:i+split_size])\n",
    "\n",
    "def MAP(value:int, _):\n",
    "  yield (value, None)\n",
    "\n",
    "def PARTITIONER(key):\n",
    "  global reducers\n",
    "  global max_value\n",
    "  global min_value\n",
    "  bucket_size = (max_value-min_value)/reducers\n",
    "  bucket_id = 0\n",
    "  while((key>(bucket_id+1)*bucket_size) and ((bucket_id+1)*bucket_size<max_value)):\n",
    "    bucket_id += 1\n",
    "  return bucket_id\n",
    "\n",
    "def REDUCE(value:int, _):\n",
    "  yield (None,value)\n",
    "\n",
    "partitioned_output = MapReduceDistributed(INPUTFORMAT, MAP, REDUCE, COMBINER=None, PARTITIONER=PARTITIONER)\n",
    "partitioned_output = [(partition_id, list(partition)) for (partition_id, partition) in partitioned_output]\n",
    "partitioned_output"
   ]
  },
  {
   "cell_type": "code",
   "execution_count": null,
   "metadata": {
    "id": "MQhoJaVZI93G"
   },
   "outputs": [],
   "source": []
  },
  {
   "cell_type": "markdown",
   "metadata": {
    "id": "Iy65YJTH99iT"
   },
   "source": [
    "# Упражнения\n",
    "Упражнения взяты из Rajaraman A., Ullman J. D. Mining of massive datasets. – Cambridge University Press, 2011.\n",
    "\n",
    "\n",
    "Для выполнения заданий переопределите функции RECORDREADER, MAP, REDUCE. Для модели распределённой системы может потребоваться переопределение функций PARTITION и COMBINER."
   ]
  },
  {
   "cell_type": "markdown",
   "metadata": {
    "id": "cfvAeZm3S8S8"
   },
   "source": [
    "### Максимальное значение ряда\n",
    "\n",
    "Разработайте MapReduce алгоритм, который находит максимальное число входного списка чисел."
   ]
  },
  {
   "cell_type": "code",
   "execution_count": 55,
   "metadata": {
    "id": "3GRA1JR-Tkbg"
   },
   "outputs": [
    {
     "name": "stdout",
     "output_type": "stream",
     "text": [
      "[49, 7, 7, 26, 38, 83, 11, 3, 9, 42, 39, 61, 41, 6, 27]\n",
      "Max value: 83\n"
     ]
    }
   ],
   "source": [
    "import random\n",
    "from functools import reduce\n",
    "\n",
    "# Функция MAP для нахождения максимального значения в списке чисел\n",
    "def MAP(numList):\n",
    "    return max(numList)\n",
    "\n",
    "# Функция REDUCE для нахождения максимального значения среди всех списков чисел\n",
    "def REDUCE(max1, max2):\n",
    "    return max(max1, max2)\n",
    "\n",
    "# Функция RECORDREADER для генерации случайных чисел в заданном диапазоне\n",
    "def RECORDREADER(count):\n",
    "    return [random.randint(0, 100) for _ in range(count)]\n",
    "\n",
    "# Генерация списка случайных чисел\n",
    "record = RECORDREADER(15)\n",
    "print(record)\n",
    "\n",
    "mapped_values = map(MAP, [record])  \n",
    "result = reduce(REDUCE, mapped_values)\n",
    "print(\"Max value:\", result)"
   ]
  },
  {
   "cell_type": "markdown",
   "metadata": {
    "id": "k86bXnqZTk-U"
   },
   "source": [
    "### Арифметическое среднее\n",
    "\n",
    "Разработайте MapReduce алгоритм, который находит арифметическое среднее.\n",
    "\n",
    "$$\\overline{X} = \\frac{1}{n}\\sum_{i=0}^{n} x_i$$\n"
   ]
  },
  {
   "cell_type": "code",
   "execution_count": 57,
   "metadata": {
    "id": "MPoY5pkfUNZf"
   },
   "outputs": [
    {
     "name": "stdout",
     "output_type": "stream",
     "text": [
      "MAP output: [(1, 59), (1, 73), (1, 6), (1, 90), (1, 84), (1, 9), (1, 16), (1, 23), (1, 71), (1, 18), (1, 3), (1, 40), (1, 95), (1, 58), (1, 20), (1, 93), (1, 9), (1, 45), (1, 48), (1, 31), (1, 35), (1, 24), (1, 26), (1, 59), (1, 2), (1, 70), (1, 84), (1, 50), (1, 91), (1, 69), (1, 58), (1, 70), (1, 67), (1, 63), (1, 71), (1, 10), (1, 7), (1, 91), (1, 48), (1, 35), (1, 34), (1, 13), (1, 30), (1, 29), (1, 36), (1, 91), (1, 58), (1, 95), (1, 90), (1, 9), (1, 25), (1, 17), (1, 92), (1, 70), (1, 70), (1, 61), (1, 51), (1, 52), (1, 87), (1, 66), (1, 11), (1, 71), (1, 82), (1, 44), (1, 53), (1, 65), (1, 17), (1, 62), (1, 46), (1, 60), (1, 37), (1, 71), (1, 43), (1, 31), (1, 76), (1, 46), (1, 23), (1, 53), (1, 97), (1, 30), (1, 48), (1, 35), (1, 49), (1, 46), (1, 51), (1, 69), (1, 70), (1, 28), (1, 59), (1, 46), (1, 72), (1, 66), (1, 29), (1, 30), (1, 21), (1, 3), (1, 99), (1, 17), (1, 50), (1, 3)]\n",
      "Reduce output: 49.06\n"
     ]
    }
   ],
   "source": [
    "import random\n",
    "from typing import Iterator, Tuple\n",
    "\n",
    "# Функция MAP для создания пары (1, num)\n",
    "def MAP(num):\n",
    "    return (1, num)\n",
    "\n",
    "# Функция REDUCE для вычисления среднего значения из итератора NamedTuple\n",
    "def REDUCE(key, nums: Iterator[Tuple[int, int]]):\n",
    "    sum = 0\n",
    "    count = 0\n",
    "    for _, n in nums:  # Перебираем только числа, пропуская ключи\n",
    "        sum += n\n",
    "        count += 1\n",
    "    yield sum / count\n",
    "\n",
    "# Функция RECORDREADER для генерации списка случайных чисел\n",
    "def RECORDREADER(count):\n",
    "    return [random.randint(0, 100) for _ in range(count)]\n",
    "\n",
    "# Генерация списка случайных чисел\n",
    "record = RECORDREADER(100)\n",
    "\n",
    "# Применение функции MAP к результату функции RECORDREADER\n",
    "map_output = list(map(MAP, record))\n",
    "print(\"MAP output:\", map_output)\n",
    "\n",
    "# Применение функции REDUCE к результату группировки\n",
    "reduce_output = list(REDUCE(1, map_output))  # Группируем по фиктивному ключу 1\n",
    "\n",
    "print(\"Reduce output:\", reduce_output[0])"
   ]
  },
  {
   "cell_type": "markdown",
   "metadata": {
    "id": "xanzszhsIlLe"
   },
   "source": [
    "### GroupByKey на основе сортировки\n",
    "\n",
    "Реализуйте groupByKey на основе сортировки, проверьте его работу на примерах"
   ]
  },
  {
   "cell_type": "code",
   "execution_count": 59,
   "metadata": {
    "id": "hQPn3USsIkEC"
   },
   "outputs": [
    {
     "name": "stdout",
     "output_type": "stream",
     "text": [
      "MAP output: [(1, 19), (1, 54), (1, 43), (1, 71), (1, 47), (1, 99), (1, 45), (1, 74), (1, 3), (1, 42), (1, 32), (1, 62), (1, 9), (1, 96), (1, 57), (1, 36), (1, 33), (1, 17), (1, 78), (1, 1), (1, 44), (1, 83), (1, 2), (1, 20), (1, 9), (1, 78), (1, 21), (1, 89), (1, 45), (1, 25), (1, 31), (1, 42), (1, 92), (1, 92), (1, 50), (1, 15), (1, 75), (1, 4), (1, 10), (1, 0), (1, 77), (1, 28), (1, 98), (1, 4), (1, 25), (1, 55), (1, 50), (1, 66), (1, 11), (1, 18), (1, 3), (1, 35), (1, 47), (1, 54), (1, 85), (1, 85), (1, 8), (1, 90), (1, 7), (1, 49), (1, 73), (1, 44), (1, 72), (1, 66), (1, 61), (1, 26), (1, 96), (1, 0), (1, 21), (1, 94), (1, 99), (1, 9), (1, 60), (1, 95), (1, 95), (1, 78), (1, 52), (1, 33), (1, 76), (1, 40), (1, 43), (1, 91), (1, 48), (1, 24), (1, 61), (1, 42), (1, 59), (1, 68), (1, 82), (1, 12), (1, 45), (1, 73), (1, 54), (1, 84), (1, 16), (1, 98), (1, 30), (1, 8), (1, 60), (1, 48)]\n",
      "Shuffle output: [(1, [19, 54, 43, 71, 47, 99, 45, 74, 3, 42, 32, 62, 9, 96, 57, 36, 33, 17, 78, 1, 44, 83, 2, 20, 9, 78, 21, 89, 45, 25, 31, 42, 92, 92, 50, 15, 75, 4, 10, 0, 77, 28, 98, 4, 25, 55, 50, 66, 11, 18, 3, 35, 47, 54, 85, 85, 8, 90, 7, 49, 73, 44, 72, 66, 61, 26, 96, 0, 21, 94, 99, 9, 60, 95, 95, 78, 52, 33, 76, 40, 43, 91, 48, 24, 61, 42, 59, 68, 82, 12, 45, 73, 54, 84, 16, 98, 30, 8, 60, 48])]\n",
      "Reduce output: [48.76]\n"
     ]
    }
   ],
   "source": [
    "\n",
    "import random\n",
    "from typing import Iterator, NamedTuple, List, Tuple\n",
    "\n",
    "# Функция MAP для создания пары (1, num)\n",
    "def MAP(num):\n",
    "    return (1, num)\n",
    "\n",
    "# Функция REDUCE для вычисления среднего значения из итератора NamedTuple\n",
    "def REDUCE(key, nums: Iterator[int]):\n",
    "    sum = 0\n",
    "    count = 0\n",
    "    for n in nums:\n",
    "        sum += n\n",
    "        count += 1\n",
    "    yield sum / count\n",
    "\n",
    "# Функция RECORDREADER для генерации списка случайных чисел\n",
    "def RECORDREADER(count):\n",
    "    return [random.randint(0, 100) for _ in range(count)]\n",
    "\n",
    "# Функция для группировки значений по ключу с использованием сортировки\n",
    "def group_by_key(iterable: List[Tuple[int, int]]):\n",
    "    grouped_data = {}\n",
    "    for key, value in sorted(iterable, key=lambda x: x[0]):\n",
    "        grouped_data.setdefault(key, []).append(value)\n",
    "    return list(grouped_data.items())\n",
    "\n",
    "# Применение функции MAP к результату функции RECORDREADER\n",
    "map_output = list(map(lambda x: MAP(x), RECORDREADER(100)))\n",
    "print(\"MAP output:\", map_output)\n",
    "\n",
    "# Группировка по ключу и преобразование в список\n",
    "shuffle_output = group_by_key(map_output)\n",
    "print(\"Shuffle output:\", shuffle_output)\n",
    "\n",
    "# Применение функции REDUCE к результату группировки\n",
    "reduce_output = list(flatten(map(lambda x: REDUCE(*x), shuffle_output)))\n",
    "print(\"Reduce output:\", reduce_output)\n",
    "     "
   ]
  },
  {
   "cell_type": "markdown",
   "metadata": {
    "id": "5SgEjCZyGnu6"
   },
   "source": [
    "### Drop duplicates (set construction, unique elements, distinct)\n",
    "\n",
    "Реализуйте распределённую операцию исключения дубликатов"
   ]
  },
  {
   "cell_type": "code",
   "execution_count": 136,
   "metadata": {
    "id": "okjbyApjGhMt"
   },
   "outputs": [
    {
     "name": "stdout",
     "output_type": "stream",
     "text": [
      "23 key-value pairs were sent over a network.\n"
     ]
    },
    {
     "data": {
      "text/plain": [
       "[(0, ['', 'and', 'cat', 'fast', 'run', 'together']), (1, ['dog', 'runs'])]"
      ]
     },
     "execution_count": 136,
     "metadata": {},
     "output_type": "execute_result"
    }
   ],
   "source": [
    "from typing import Iterator\n",
    "import numpy as np\n",
    "\n",
    "\n",
    "def flatten(nested_iterable):\n",
    "    # Функция для \"выравнивания\" вложенной структуры данных\n",
    "    for iterable in nested_iterable:\n",
    "        for element in iterable:\n",
    "            yield element\n",
    "\n",
    "def groupbykey(iterable):\n",
    "    # Группировка данных по ключу\n",
    "    grouped_data = {}\n",
    "    for key, value in iterable:\n",
    "        grouped_data.setdefault(key, []).append(value)\n",
    "    return list(grouped_data.items())\n",
    "\n",
    "def groupbykey_distributed(map_partitions, PARTITIONER):\n",
    "    # Распределенная группировка данных по ключу\n",
    "    global reducers\n",
    "    partitions = [dict() for _ in range(reducers)]\n",
    "    for map_partition in map_partitions:\n",
    "        for key, value in map_partition:\n",
    "            p = partitions[PARTITIONER(key)]\n",
    "            p.setdefault(key, []).append(value)\n",
    "    return [(partition_id, sorted(partition.items(), key=lambda x: x[0])) for (partition_id, partition) in enumerate(partitions)]\n",
    "\n",
    "def PARTITIONER(obj):\n",
    "    # Функция для определения разделителя (партиционера)\n",
    "    global reducers\n",
    "    return hash(obj) % reducers\n",
    "\n",
    "# Функция для выполнения операций MapReduce\n",
    "def MapReduceDistributed(INPUTFORMAT, MAP, REDUCE, PARTITIONER=PARTITIONER, COMBINER=None):\n",
    "\n",
    "    # Применяем функцию MAP к каждой записи во входных данных, затем \"выравниваем\" результаты\n",
    "    map_partitions = map(lambda record_reader: flatten(map(lambda k1v1: MAP(*k1v1), record_reader)), INPUTFORMAT())\n",
    "\n",
    "    # Если задан комбайнер (COMBINER), применяем его к данным после группировки по ключу\n",
    "    if COMBINER is not None:\n",
    "        map_partitions = map(lambda map_partition: flatten(map(lambda k2v2: COMBINER(*k2v2), groupbykey(map_partition))), map_partitions)\n",
    "\n",
    "    # Выполняем распределенную группировку данных по ключу с использованием заданного партиционера\n",
    "    reduce_partitions = groupbykey_distributed(map_partitions, PARTITIONER)\n",
    "\n",
    "    # Применяем функцию REDUCE к каждой группе данных после группировки и \"выравниваем\" результаты\n",
    "    reduce_outputs = map(lambda reduce_partition: (reduce_partition[0], flatten(map(lambda reduce_input_group: REDUCE(*reduce_input_group),\n",
    "                                                                                    reduce_partition[1]))), reduce_partitions)\n",
    "       # Вычисляем общее количество отправленных по сети пар ключ-значение\n",
    "    total_values_sent = sum([len(vs) for (k, vs) in flatten([partition for (partition_id, partition) in reduce_partitions])])\n",
    "\n",
    "    # Выводим информацию о количестве отправленных данных и возвращаем результат операций MapReduce\n",
    "    print(f\"{total_values_sent} key-value pairs were sent over a network.\")\n",
    "    return reduce_outputs\n",
    "\n",
    "# Задание текстовых документов\n",
    "d1 = \"\"\"\n",
    "fast cat runs\n",
    "runs cat fast\n",
    "cat runs fast\"\"\"\n",
    "\n",
    "d2 = \"\"\"\n",
    "runs fast\n",
    "fast cat\n",
    "cat runs\"\"\"\n",
    "\n",
    "d3 = \"\"\"\n",
    "dog and cat run together\"\"\"\n",
    "documents = [d1, d2, d3]\n",
    "\n",
    "\n",
    "maps = 3\n",
    "reducers = 2\n",
    "\n",
    "def INPUTFORMAT():\n",
    "    # Форматирование входных данных для MapReduce\n",
    "    global maps\n",
    "\n",
    "    # Функция RECORDREADER принимает на вход раздел (split) данных и генерирует ключ-значение для каждой строки документа\n",
    "    def RECORDREADER(split):\n",
    "      # Перебираем каждый документ в разделе, присваивая ему уникальный идентификатор docid\n",
    "        for (docid, document) in enumerate(split):\n",
    "          # Для каждой строки в документе создаем уникальный идентификатор lineid и разбиваем строку по символу новой строки '\\n'\n",
    "            for (lineid, line) in enumerate(document.split('\\n')):\n",
    "               # Генерируем ключ в формате \"docid:lineid\" и значение - строку из документа\n",
    "                yield (\"{}:{}\".format(docid, lineid), line)\n",
    "    # Вычисляем размер раздела данных split_size как округленное вверх\n",
    "    #значение от деления общего числа документов на количество задач MapReduce\n",
    "    split_size = int(np.ceil(len(documents) / maps))\n",
    "    # Цикл по документам с шагом split_size\n",
    "    for i in range(0, len(documents), split_size):\n",
    "      # Генерируем данные для каждого раздела данных путем вызова функции RECORDREADER с подмножеством документов\n",
    "        yield RECORDREADER(documents[i:i + split_size])\n",
    "\n",
    "def MAP(docId: str, line: str):\n",
    "    # Функция Map для преобразования данных\n",
    "    for word in line.split(\" \"):\n",
    "        yield (word, word)\n",
    "\n",
    "def REDUCE(key: str, value: Iterator[str]):\n",
    "    # Функция Reduce для агрегации данных\n",
    "    yield key\n",
    "\n",
    "# Выполнение MapReduce операций с заданными функциями MAP и REDUCE\n",
    "partitioned_output = MapReduceDistributed(INPUTFORMAT, MAP, REDUCE, COMBINER=None)\n",
    "partitioned_output = [(partition_id, list(partition)) for (partition_id, partition) in partitioned_output]\n",
    "partitioned_output"
   ]
  },
  {
   "cell_type": "markdown",
   "metadata": {
    "id": "e7sRGoTXuJze"
   },
   "source": [
    "#Операторы реляционной алгебры\n",
    "### Selection (Выборка)\n",
    "\n",
    "**The Map Function**: Для  каждого кортежа $t \\in R$ вычисляется истинность предиката $C$. В случае истины создаётся пара ключ-значение $(t, t)$. В паре ключ и значение одинаковы, равны $t$.\n",
    "\n",
    "**The Reduce Function:** Роль функции Reduce выполняет функция идентичности, которая возвращает то же значение, что получила на вход.\n",
    "\n"
   ]
  },
  {
   "cell_type": "code",
   "execution_count": 120,
   "metadata": {
    "id": "4nKIKe59uIfc"
   },
   "outputs": [
    {
     "name": "stdout",
     "output_type": "stream",
     "text": [
      "[(28, 89, 82), (89, 87, 82), (61, 16, 53), (45, 84, 22), (21, 10, 25)]\n",
      "[[(28, 89, 82), (89, 87, 82), (61, 16, 53), (45, 84, 22), (21, 10, 25)]]\n",
      "[dict_items([((28, 89, 82), [(28, 89, 82)])])]\n",
      "[((28, 89, 82), [(28, 89, 82)])]\n"
     ]
    }
   ],
   "source": [
    "from collections import defaultdict\n",
    "import random\n",
    "\n",
    "# Функция для реализации MAP операции\n",
    "def MAP(el_list):\n",
    "    mapped_result = defaultdict(list)\n",
    "    for t in el_list:\n",
    "        if C(t):  # Предикат C - выбираем только кортежи, удовлетворяющие условию\n",
    "            mapped_result[t].append(t)\n",
    "    return mapped_result.items()\n",
    "\n",
    "# Функция для реализации REDUCE операции\n",
    "def REDUCE(mapped_items):\n",
    "    reduced_result = []\n",
    "    print(mapped_items)  # Выводим промежуточный результат\n",
    "    for values in mapped_items:\n",
    "        for value in values:\n",
    "            reduced_result.append(value)  # Функция идентичности: возвращаем то же значение, что получили на вход\n",
    "    return reduced_result\n",
    "\n",
    "# Предикат для фильтрации кортежей с четным первым элементом\n",
    "def C(t):\n",
    "    return t[0] % 2 == 0\n",
    "\n",
    "# Генерация случайных записей (кортежей формата (x, y, z))\n",
    "def RECORDREADER(count):\n",
    "    return [(random.randint(0, 100), random.randint(0, 100), random.randint(0, 100)) for _ in range(count)]\n",
    "\n",
    "# Создание набора записей\n",
    "record = RECORDREADER(5)\n",
    "print(record)\n",
    "\n",
    "# Разбиение записей на равные части\n",
    "part_count = 5\n",
    "record_partitioned = [record[d:d + part_count] for d in range(0, len(record), part_count)]\n",
    "print(record_partitioned)\n",
    "\n",
    "# Применение операции MAP и последующей REDUCE к разделенным записям\n",
    "print(REDUCE(list(map(lambda x: MAP(x), record_partitioned))))"
   ]
  },
  {
   "cell_type": "markdown",
   "metadata": {
    "id": "w27Ca-_Ku85V"
   },
   "source": [
    "### Projection (Проекция)\n",
    "\n",
    "Проекция на множество атрибутов $S$.\n",
    "\n",
    "**The Map Function:** Для каждого кортежа $t \\in R$ создайте кортеж $t′$, исключая  из $t$ те значения, атрибуты которых не принадлежат  $S$. Верните пару $(t′, t′)$.\n",
    "\n",
    "**The Reduce Function:** Для каждого ключа $t′$, созданного любой Map задачей, вы получаете одну или несколько пар $(t′, t′)$. Reduce функция преобразует $(t′, [t′, t′, . . . , t′])$ в $(t′, t′)$, так, что для ключа $t′$ возвращается одна пара  $(t′, t′)$."
   ]
  },
  {
   "cell_type": "code",
   "execution_count": 122,
   "metadata": {
    "id": "BEvuY4GqvhS6"
   },
   "outputs": [
    {
     "name": "stdout",
     "output_type": "stream",
     "text": [
      "[(4, 14, 10), (16, 52, 74), (71, 47, 42), (38, 44, 61), (15, 35, 5)]\n",
      "MAP output: [((), ()), ((), ()), ((), ()), ((), ()), ((), ()), ((90,), (90,)), ((25,), (25,)), ((), ()), ((), ()), ((), ()), ((25,), (25,)), ((), ()), ((), ()), ((), ()), ((), ()), ((), ()), ((), ()), ((), ()), ((), ()), ((), ()), ((), ()), ((), ()), ((), ()), ((), ()), ((), ()), ((), ()), ((), ()), ((), ()), ((), ()), ((), ()), ((), ()), ((), ()), ((), ()), ((), ()), ((), ()), ((), ()), ((), ()), ((25,), (25,)), ((), ()), ((), ()), ((), ()), ((), ()), ((90, 25), (90, 25)), ((), ()), ((), ()), ((), ()), ((), ()), ((), ()), ((69,), (69,)), ((90,), (90,)), ((69,), (69,)), ((), ()), ((), ()), ((), ()), ((), ()), ((), ()), ((), ()), ((), ()), ((), ()), ((), ()), ((), ()), ((), ()), ((), ()), ((), ()), ((), ()), ((), ()), ((), ()), ((), ()), ((), ()), ((), ()), ((), ()), ((), ()), ((), ()), ((), ()), ((), ()), ((), ()), ((), ()), ((), ()), ((), ()), ((), ()), ((), ()), ((), ()), ((), ()), ((), ()), ((), ()), ((), ()), ((), ()), ((), ()), ((), ()), ((), ()), ((), ()), ((), ()), ((), ()), ((), ()), ((), ()), ((), ()), ((), ()), ((), ()), ((), ()), ((), ())]\n",
      "Shuffle output: [((), [(), (), (), (), (), (), (), (), (), (), (), (), (), (), (), (), (), (), (), (), (), (), (), (), (), (), (), (), (), (), (), (), (), (), (), (), (), (), (), (), (), (), (), (), (), (), (), (), (), (), (), (), (), (), (), (), (), (), (), (), (), (), (), (), (), (), (), (), (), (), (), (), (), (), (), (), (), (), (), (), (), (), (), (), (), (), (), (), (), (), (), ()]), ((90,), [(90,), (90,)]), ((25,), [(25,), (25,), (25,)]), ((90, 25), [(90, 25)]), ((69,), [(69,), (69,)])]\n",
      "Reduce output: [(), (90,), (25,), (90, 25), (69,)]\n"
     ]
    }
   ],
   "source": [
    "S = set([25, 90, 69])  # Создаем множество S\n",
    "\n",
    "def MAP(t):\n",
    "    res_list = []\n",
    "    for el in t:  # Перебираем элементы входного кортежа t\n",
    "        if el in S:  # Проверяем, есть ли элемент el в множестве S\n",
    "            res_list.append(el)  # Добавляем элемент el в результирующий список\n",
    "    res = tuple(res_list)  # Преобразуем список в кортеж\n",
    "    return (res, res)  # Возвращаем кортеж из результирующего списка дважды\n",
    "\n",
    "def REDUCE(key, values: Iterator[NamedTuple]):\n",
    "    return (key, key)  # Возвращает кортеж с ключом и значением равными ключу\n",
    "\n",
    "def RECORDREADER(count):\n",
    "    return [(random.randint(0, 100), random.randint(0, 100), random.randint(0, 100)) for i in range(count)]  # Генерирует список кортежей случайных чисел\n",
    "\n",
    "def group_by_key(iterable):\n",
    "    t = {}\n",
    "    for (k2, v2) in iterable:  # Перебираем элементы входного итерируемого объекта\n",
    "        t[k2] = t.get(k2, []) + [v2]  # Группируем значения по ключу k2\n",
    "    return t.items()  # Возвращаем список кортежей (ключ, список значений)\n",
    "\n",
    "record = RECORDREADER(5)  # Генерируем список кортежей случайных чисел\n",
    "print(record)\n",
    "\n",
    "map_output = list(map(lambda x: MAP(x), RECORDREADER(100)))  # Применяем функцию MAP ко всем элементам RECORDREADER(100)\n",
    "print(\"MAP output:\", map_output)\n",
    "\n",
    "shuffle_output = group_by_key(map_output)  # Группируем значения по ключу\n",
    "shuffle_output = list(shuffle_output)  # Преобразуем результат в список\n",
    "\n",
    "print(\"Shuffle output:\", shuffle_output)\n",
    "\n",
    "reduce_output = list(map(lambda x: REDUCE(*x)[0], shuffle_output))  # Применяем функцию REDUCE к результату группировки\n",
    "print(\"Reduce output:\", reduce_output)"
   ]
  },
  {
   "cell_type": "markdown",
   "metadata": {
    "id": "7gau6lKXvn2R"
   },
   "source": [
    "### Union (Объединение)\n",
    "\n",
    "**The Map Function:** Превратите каждый входной кортеж $t$ в пару ключ-значение $(t, t)$.\n",
    "\n",
    "**The Reduce Function:** С каждым ключом $t$ будет ассоциировано одно или два значений. В обоих случаях создайте $(t, t)$ в качестве выходного значения."
   ]
  },
  {
   "cell_type": "code",
   "execution_count": 67,
   "metadata": {
    "id": "Sns7a5agv3nw"
   },
   "outputs": [
    {
     "name": "stdout",
     "output_type": "stream",
     "text": [
      "[(31, 0, 60), (73, 87, 69), (51, 8, 37), (44, 41, 15), (70, 54, 57)]\n",
      "MAP output: [((94, 11, 27), (94, 11, 27)), ((26, 61, 41), (26, 61, 41)), ((36, 81, 49), (36, 81, 49)), ((63, 24, 86), (63, 24, 86)), ((12, 99, 48), (12, 99, 48)), ((39, 31, 50), (39, 31, 50)), ((71, 45, 97), (71, 45, 97)), ((57, 95, 9), (57, 95, 9)), ((60, 79, 73), (60, 79, 73)), ((79, 42, 15), (79, 42, 15)), ((25, 51, 5), (25, 51, 5)), ((2, 54, 65), (2, 54, 65)), ((4, 47, 66), (4, 47, 66)), ((26, 91, 43), (26, 91, 43)), ((16, 70, 65), (16, 70, 65)), ((43, 24, 11), (43, 24, 11)), ((37, 20, 97), (37, 20, 97)), ((4, 93, 65), (4, 93, 65)), ((32, 4, 95), (32, 4, 95)), ((97, 97, 0), (97, 97, 0)), ((79, 50, 18), (79, 50, 18)), ((11, 16, 75), (11, 16, 75)), ((68, 63, 31), (68, 63, 31)), ((25, 2, 91), (25, 2, 91)), ((11, 38, 22), (11, 38, 22)), ((31, 83, 2), (31, 83, 2)), ((72, 71, 98), (72, 71, 98)), ((53, 90, 67), (53, 90, 67)), ((0, 11, 66), (0, 11, 66)), ((98, 97, 39), (98, 97, 39)), ((66, 98, 11), (66, 98, 11)), ((2, 51, 1), (2, 51, 1)), ((50, 35, 84), (50, 35, 84)), ((99, 86, 81), (99, 86, 81)), ((93, 20, 75), (93, 20, 75)), ((57, 70, 1), (57, 70, 1)), ((89, 44, 13), (89, 44, 13)), ((27, 52, 29), (27, 52, 29)), ((57, 43, 5), (57, 43, 5)), ((34, 53, 33), (34, 53, 33)), ((54, 30, 40), (54, 30, 40)), ((0, 88, 21), (0, 88, 21)), ((15, 3, 64), (15, 3, 64)), ((18, 41, 57), (18, 41, 57)), ((86, 40, 46), (86, 40, 46)), ((47, 67, 15), (47, 67, 15)), ((91, 62, 57), (91, 62, 57)), ((36, 49, 89), (36, 49, 89)), ((50, 85, 7), (50, 85, 7)), ((8, 2, 93), (8, 2, 93)), ((77, 84, 2), (77, 84, 2)), ((90, 33, 51), (90, 33, 51)), ((70, 85, 51), (70, 85, 51)), ((54, 13, 3), (54, 13, 3)), ((1, 99, 62), (1, 99, 62)), ((23, 53, 58), (23, 53, 58)), ((98, 49, 95), (98, 49, 95)), ((54, 77, 76), (54, 77, 76)), ((26, 4, 5), (26, 4, 5)), ((64, 32, 18), (64, 32, 18)), ((22, 79, 16), (22, 79, 16)), ((92, 68, 46), (92, 68, 46)), ((6, 36, 93), (6, 36, 93)), ((57, 12, 67), (57, 12, 67)), ((68, 35, 90), (68, 35, 90)), ((60, 25, 74), (60, 25, 74)), ((65, 27, 2), (65, 27, 2)), ((80, 6, 49), (80, 6, 49)), ((80, 11, 83), (80, 11, 83)), ((91, 20, 86), (91, 20, 86)), ((57, 33, 56), (57, 33, 56)), ((42, 23, 38), (42, 23, 38)), ((82, 56, 99), (82, 56, 99)), ((14, 38, 90), (14, 38, 90)), ((34, 87, 49), (34, 87, 49)), ((67, 27, 45), (67, 27, 45)), ((9, 95, 73), (9, 95, 73)), ((50, 95, 94), (50, 95, 94)), ((76, 47, 40), (76, 47, 40)), ((59, 64, 62), (59, 64, 62)), ((83, 43, 85), (83, 43, 85)), ((19, 99, 49), (19, 99, 49)), ((76, 68, 7), (76, 68, 7)), ((30, 67, 87), (30, 67, 87)), ((20, 62, 58), (20, 62, 58)), ((12, 4, 10), (12, 4, 10)), ((17, 58, 53), (17, 58, 53)), ((27, 32, 15), (27, 32, 15)), ((25, 21, 22), (25, 21, 22)), ((93, 60, 100), (93, 60, 100)), ((48, 30, 3), (48, 30, 3)), ((81, 39, 8), (81, 39, 8)), ((83, 40, 30), (83, 40, 30)), ((83, 56, 55), (83, 56, 55)), ((28, 50, 67), (28, 50, 67)), ((70, 14, 66), (70, 14, 66)), ((65, 46, 72), (65, 46, 72)), ((74, 54, 57), (74, 54, 57)), ((82, 41, 48), (82, 41, 48)), ((64, 29, 41), (64, 29, 41))]\n",
      "Shuffle output: [((94, 11, 27), [(94, 11, 27)]), ((26, 61, 41), [(26, 61, 41)]), ((36, 81, 49), [(36, 81, 49)]), ((63, 24, 86), [(63, 24, 86)]), ((12, 99, 48), [(12, 99, 48)]), ((39, 31, 50), [(39, 31, 50)]), ((71, 45, 97), [(71, 45, 97)]), ((57, 95, 9), [(57, 95, 9)]), ((60, 79, 73), [(60, 79, 73)]), ((79, 42, 15), [(79, 42, 15)]), ((25, 51, 5), [(25, 51, 5)]), ((2, 54, 65), [(2, 54, 65)]), ((4, 47, 66), [(4, 47, 66)]), ((26, 91, 43), [(26, 91, 43)]), ((16, 70, 65), [(16, 70, 65)]), ((43, 24, 11), [(43, 24, 11)]), ((37, 20, 97), [(37, 20, 97)]), ((4, 93, 65), [(4, 93, 65)]), ((32, 4, 95), [(32, 4, 95)]), ((97, 97, 0), [(97, 97, 0)]), ((79, 50, 18), [(79, 50, 18)]), ((11, 16, 75), [(11, 16, 75)]), ((68, 63, 31), [(68, 63, 31)]), ((25, 2, 91), [(25, 2, 91)]), ((11, 38, 22), [(11, 38, 22)]), ((31, 83, 2), [(31, 83, 2)]), ((72, 71, 98), [(72, 71, 98)]), ((53, 90, 67), [(53, 90, 67)]), ((0, 11, 66), [(0, 11, 66)]), ((98, 97, 39), [(98, 97, 39)]), ((66, 98, 11), [(66, 98, 11)]), ((2, 51, 1), [(2, 51, 1)]), ((50, 35, 84), [(50, 35, 84)]), ((99, 86, 81), [(99, 86, 81)]), ((93, 20, 75), [(93, 20, 75)]), ((57, 70, 1), [(57, 70, 1)]), ((89, 44, 13), [(89, 44, 13)]), ((27, 52, 29), [(27, 52, 29)]), ((57, 43, 5), [(57, 43, 5)]), ((34, 53, 33), [(34, 53, 33)]), ((54, 30, 40), [(54, 30, 40)]), ((0, 88, 21), [(0, 88, 21)]), ((15, 3, 64), [(15, 3, 64)]), ((18, 41, 57), [(18, 41, 57)]), ((86, 40, 46), [(86, 40, 46)]), ((47, 67, 15), [(47, 67, 15)]), ((91, 62, 57), [(91, 62, 57)]), ((36, 49, 89), [(36, 49, 89)]), ((50, 85, 7), [(50, 85, 7)]), ((8, 2, 93), [(8, 2, 93)]), ((77, 84, 2), [(77, 84, 2)]), ((90, 33, 51), [(90, 33, 51)]), ((70, 85, 51), [(70, 85, 51)]), ((54, 13, 3), [(54, 13, 3)]), ((1, 99, 62), [(1, 99, 62)]), ((23, 53, 58), [(23, 53, 58)]), ((98, 49, 95), [(98, 49, 95)]), ((54, 77, 76), [(54, 77, 76)]), ((26, 4, 5), [(26, 4, 5)]), ((64, 32, 18), [(64, 32, 18)]), ((22, 79, 16), [(22, 79, 16)]), ((92, 68, 46), [(92, 68, 46)]), ((6, 36, 93), [(6, 36, 93)]), ((57, 12, 67), [(57, 12, 67)]), ((68, 35, 90), [(68, 35, 90)]), ((60, 25, 74), [(60, 25, 74)]), ((65, 27, 2), [(65, 27, 2)]), ((80, 6, 49), [(80, 6, 49)]), ((80, 11, 83), [(80, 11, 83)]), ((91, 20, 86), [(91, 20, 86)]), ((57, 33, 56), [(57, 33, 56)]), ((42, 23, 38), [(42, 23, 38)]), ((82, 56, 99), [(82, 56, 99)]), ((14, 38, 90), [(14, 38, 90)]), ((34, 87, 49), [(34, 87, 49)]), ((67, 27, 45), [(67, 27, 45)]), ((9, 95, 73), [(9, 95, 73)]), ((50, 95, 94), [(50, 95, 94)]), ((76, 47, 40), [(76, 47, 40)]), ((59, 64, 62), [(59, 64, 62)]), ((83, 43, 85), [(83, 43, 85)]), ((19, 99, 49), [(19, 99, 49)]), ((76, 68, 7), [(76, 68, 7)]), ((30, 67, 87), [(30, 67, 87)]), ((20, 62, 58), [(20, 62, 58)]), ((12, 4, 10), [(12, 4, 10)]), ((17, 58, 53), [(17, 58, 53)]), ((27, 32, 15), [(27, 32, 15)]), ((25, 21, 22), [(25, 21, 22)]), ((93, 60, 100), [(93, 60, 100)]), ((48, 30, 3), [(48, 30, 3)]), ((81, 39, 8), [(81, 39, 8)]), ((83, 40, 30), [(83, 40, 30)]), ((83, 56, 55), [(83, 56, 55)]), ((28, 50, 67), [(28, 50, 67)]), ((70, 14, 66), [(70, 14, 66)]), ((65, 46, 72), [(65, 46, 72)]), ((74, 54, 57), [(74, 54, 57)]), ((82, 41, 48), [(82, 41, 48)]), ((64, 29, 41), [(64, 29, 41)])]\n",
      "Reduce output: [(94, 11, 27), (26, 61, 41), (36, 81, 49), (63, 24, 86), (12, 99, 48), (39, 31, 50), (71, 45, 97), (57, 95, 9), (60, 79, 73), (79, 42, 15), (25, 51, 5), (2, 54, 65), (4, 47, 66), (26, 91, 43), (16, 70, 65), (43, 24, 11), (37, 20, 97), (4, 93, 65), (32, 4, 95), (97, 97, 0), (79, 50, 18), (11, 16, 75), (68, 63, 31), (25, 2, 91), (11, 38, 22), (31, 83, 2), (72, 71, 98), (53, 90, 67), (0, 11, 66), (98, 97, 39), (66, 98, 11), (2, 51, 1), (50, 35, 84), (99, 86, 81), (93, 20, 75), (57, 70, 1), (89, 44, 13), (27, 52, 29), (57, 43, 5), (34, 53, 33), (54, 30, 40), (0, 88, 21), (15, 3, 64), (18, 41, 57), (86, 40, 46), (47, 67, 15), (91, 62, 57), (36, 49, 89), (50, 85, 7), (8, 2, 93), (77, 84, 2), (90, 33, 51), (70, 85, 51), (54, 13, 3), (1, 99, 62), (23, 53, 58), (98, 49, 95), (54, 77, 76), (26, 4, 5), (64, 32, 18), (22, 79, 16), (92, 68, 46), (6, 36, 93), (57, 12, 67), (68, 35, 90), (60, 25, 74), (65, 27, 2), (80, 6, 49), (80, 11, 83), (91, 20, 86), (57, 33, 56), (42, 23, 38), (82, 56, 99), (14, 38, 90), (34, 87, 49), (67, 27, 45), (9, 95, 73), (50, 95, 94), (76, 47, 40), (59, 64, 62), (83, 43, 85), (19, 99, 49), (76, 68, 7), (30, 67, 87), (20, 62, 58), (12, 4, 10), (17, 58, 53), (27, 32, 15), (25, 21, 22), (93, 60, 100), (48, 30, 3), (81, 39, 8), (83, 40, 30), (83, 56, 55), (28, 50, 67), (70, 14, 66), (65, 46, 72), (74, 54, 57), (82, 41, 48), (64, 29, 41)]\n"
     ]
    }
   ],
   "source": [
    "def MAP(t):\n",
    "    return (t, t)  # Функция MAP возвращает кортеж из входного элемента и этого же элемента\n",
    "\n",
    "def REDUCE(key, values: Iterator[NamedTuple]):\n",
    "    return (key, key)  # Функция REDUCE возвращает кортеж с ключом и значением равными ключу\n",
    "\n",
    "def RECORDREADER(count):\n",
    "    return [(random.randint(0, 100), random.randint(0, 100), random.randint(0, 100)) for i in range(count)]  # Генерирует список кортежей случайных чисел\n",
    "\n",
    "def group_by_key(iterable):\n",
    "    t = {}\n",
    "    for (k2, v2) in iterable:  # Перебираем элементы входного итерируемого объекта\n",
    "        t[k2] = t.get(k2, []) + [v2]  # Группируем значения по ключу k2\n",
    "    return t.items()  # Возвращаем список кортежей (ключ, список значений)\n",
    "\n",
    "record = RECORDREADER(5)  # Генерируем список кортежей случайных чисел\n",
    "print(record)\n",
    "\n",
    "map_output = list(map(lambda x: MAP(x), RECORDREADER(100)))  # Применяем функцию MAP ко всем элементам RECORDREADER(100)\n",
    "print(\"MAP output:\", map_output)\n",
    "\n",
    "shuffle_output = group_by_key(map_output)  # Группируем значения по ключу\n",
    "shuffle_output = list(shuffle_output)  # Преобразуем результат в список\n",
    "print(\"Shuffle output:\", shuffle_output)\n",
    "\n",
    "reduce_output = list(map(lambda x: REDUCE(*x)[0], shuffle_output))  # Применяем функцию REDUCE к результату группировки\n",
    "print(\"Reduce output:\", reduce_output)"
   ]
  },
  {
   "cell_type": "markdown",
   "metadata": {
    "id": "dQ8TuEbjv4J8"
   },
   "source": [
    "### Intersection (Пересечение)\n",
    "\n",
    "**The Map Function:** Превратите каждый кортеж $t$ в пары ключ-значение $(t, t)$.\n",
    "\n",
    "**The Reduce Function:** Если для ключа $t$ есть список из двух элементов $[t, t]$ $-$ создайте пару $(t, t)$. Иначе, ничего не создавайте."
   ]
  },
  {
   "cell_type": "code",
   "execution_count": 69,
   "metadata": {
    "id": "XKlBZh4IwERR"
   },
   "outputs": [
    {
     "name": "stdout",
     "output_type": "stream",
     "text": [
      "[(3, 2), (2, 0), (2, 2), (3, 1), (0, 0), (1, 1), (0, 2), (2, 3), (0, 1), (0, 1), (3, 1), (0, 0), (3, 2), (2, 0), (1, 0), (1, 1), (0, 0), (2, 2), (0, 3), (3, 3), (1, 0), (3, 0), (1, 0), (3, 0), (3, 3), (0, 2), (1, 3), (0, 2), (0, 3), (1, 3), (1, 0), (3, 0), (3, 0), (0, 3), (0, 3), (3, 0), (3, 3), (2, 3), (2, 0), (0, 1), (1, 0), (1, 1), (3, 0), (3, 1), (1, 3), (1, 3), (1, 2), (0, 2), (2, 2), (2, 0), (1, 3), (3, 3), (2, 2), (0, 1), (0, 0), (1, 0), (2, 2), (1, 3), (1, 1), (2, 0), (2, 1), (3, 2), (1, 2), (3, 0), (2, 2), (1, 3), (2, 2), (3, 1), (2, 3), (0, 0), (3, 3), (2, 2), (3, 2), (1, 2), (2, 2), (0, 1), (3, 3), (2, 3), (0, 3), (3, 2), (2, 1), (3, 3), (0, 3), (1, 1), (0, 2), (3, 2), (2, 1), (3, 3), (3, 1), (0, 1), (3, 3), (1, 0), (3, 3), (1, 3), (0, 2), (3, 3), (3, 1), (3, 1), (0, 2), (2, 1)]\n",
      "MAP output: [((0, 3), (0, 3)), ((3, 3), (3, 3)), ((0, 3), (0, 3)), ((0, 3), (0, 3)), ((1, 2), (1, 2)), ((2, 2), (2, 2)), ((0, 1), (0, 1)), ((1, 1), (1, 1)), ((1, 1), (1, 1)), ((3, 3), (3, 3)), ((1, 2), (1, 2)), ((2, 3), (2, 3)), ((1, 1), (1, 1)), ((3, 2), (3, 2)), ((0, 2), (0, 2)), ((3, 3), (3, 3)), ((0, 1), (0, 1)), ((1, 2), (1, 2)), ((3, 0), (3, 0)), ((1, 3), (1, 3)), ((3, 3), (3, 3)), ((1, 2), (1, 2)), ((0, 0), (0, 0)), ((2, 1), (2, 1)), ((1, 2), (1, 2)), ((2, 2), (2, 2)), ((1, 2), (1, 2)), ((3, 2), (3, 2)), ((0, 3), (0, 3)), ((1, 1), (1, 1)), ((0, 3), (0, 3)), ((0, 3), (0, 3)), ((2, 1), (2, 1)), ((1, 1), (1, 1)), ((2, 3), (2, 3)), ((0, 3), (0, 3)), ((1, 1), (1, 1)), ((3, 2), (3, 2)), ((0, 1), (0, 1)), ((0, 0), (0, 0)), ((1, 1), (1, 1)), ((1, 0), (1, 0)), ((2, 1), (2, 1)), ((2, 3), (2, 3)), ((1, 2), (1, 2)), ((3, 3), (3, 3)), ((3, 2), (3, 2)), ((1, 3), (1, 3)), ((0, 0), (0, 0)), ((2, 0), (2, 0)), ((0, 2), (0, 2)), ((3, 0), (3, 0)), ((0, 0), (0, 0)), ((0, 0), (0, 0)), ((0, 0), (0, 0)), ((0, 0), (0, 0)), ((2, 1), (2, 1)), ((2, 3), (2, 3)), ((0, 2), (0, 2)), ((1, 2), (1, 2)), ((3, 0), (3, 0)), ((3, 2), (3, 2)), ((1, 2), (1, 2)), ((0, 3), (0, 3)), ((0, 2), (0, 2)), ((2, 0), (2, 0)), ((1, 0), (1, 0)), ((3, 1), (3, 1)), ((2, 0), (2, 0)), ((1, 2), (1, 2)), ((2, 3), (2, 3)), ((2, 1), (2, 1)), ((3, 0), (3, 0)), ((2, 3), (2, 3)), ((1, 3), (1, 3)), ((2, 0), (2, 0)), ((0, 0), (0, 0)), ((3, 1), (3, 1)), ((0, 0), (0, 0)), ((1, 3), (1, 3)), ((1, 3), (1, 3)), ((1, 3), (1, 3)), ((2, 3), (2, 3)), ((1, 3), (1, 3)), ((0, 3), (0, 3)), ((3, 3), (3, 3)), ((1, 3), (1, 3)), ((1, 0), (1, 0)), ((2, 0), (2, 0)), ((3, 0), (3, 0)), ((0, 3), (0, 3)), ((1, 1), (1, 1)), ((3, 3), (3, 3)), ((1, 0), (1, 0)), ((2, 0), (2, 0)), ((0, 1), (0, 1)), ((0, 0), (0, 0)), ((0, 2), (0, 2)), ((3, 2), (3, 2)), ((3, 2), (3, 2))]\n",
      "Shuffle output: [((0, 3), [(0, 3), (0, 3), (0, 3), (0, 3), (0, 3), (0, 3), (0, 3), (0, 3), (0, 3), (0, 3)]), ((3, 3), [(3, 3), (3, 3), (3, 3), (3, 3), (3, 3), (3, 3), (3, 3)]), ((1, 2), [(1, 2), (1, 2), (1, 2), (1, 2), (1, 2), (1, 2), (1, 2), (1, 2), (1, 2), (1, 2)]), ((2, 2), [(2, 2), (2, 2)]), ((0, 1), [(0, 1), (0, 1), (0, 1), (0, 1)]), ((1, 1), [(1, 1), (1, 1), (1, 1), (1, 1), (1, 1), (1, 1), (1, 1), (1, 1)]), ((2, 3), [(2, 3), (2, 3), (2, 3), (2, 3), (2, 3), (2, 3), (2, 3)]), ((3, 2), [(3, 2), (3, 2), (3, 2), (3, 2), (3, 2), (3, 2), (3, 2)]), ((0, 2), [(0, 2), (0, 2), (0, 2), (0, 2), (0, 2)]), ((3, 0), [(3, 0), (3, 0), (3, 0), (3, 0), (3, 0)]), ((1, 3), [(1, 3), (1, 3), (1, 3), (1, 3), (1, 3), (1, 3), (1, 3), (1, 3)]), ((0, 0), [(0, 0), (0, 0), (0, 0), (0, 0), (0, 0), (0, 0), (0, 0), (0, 0), (0, 0), (0, 0)]), ((2, 1), [(2, 1), (2, 1), (2, 1), (2, 1), (2, 1)]), ((1, 0), [(1, 0), (1, 0), (1, 0), (1, 0)]), ((2, 0), [(2, 0), (2, 0), (2, 0), (2, 0), (2, 0), (2, 0)]), ((3, 1), [(3, 1), (3, 1)])]\n",
      "Reduce output: [(2, 2), (3, 1)]\n"
     ]
    }
   ],
   "source": [
    "\n",
    "def MAP(t):\n",
    "    return (t, t)  # Функция MAP возвращает кортеж из входного элемента и этого же элемента\n",
    "\n",
    "def REDUCE(key, values: Iterator[NamedTuple]):\n",
    "    if len(values) == 2:  # Если количество значений равно 2\n",
    "        return (key, key)  # Возвращает кортеж с ключом и значением равными ключу\n",
    "\n",
    "def RECORDREADER(count):\n",
    "    return [(random.randint(0, 3), random.randint(0, 3)) for i in range(count)]  # Генерирует список кортежей случайных чисел\n",
    "\n",
    "def group_by_key(iterable):\n",
    "    t = {}\n",
    "    for (k2, v2) in iterable:  # Перебираем элементы входного итерируемого объекта\n",
    "        t[k2] = t.get(k2, []) + [v2]  # Группируем значения по ключу k2\n",
    "    return t.items()  # Возвращаем список кортежей (ключ, список значений)\n",
    "\n",
    "record = RECORDREADER(100)  # Генерируем список кортежей случайных чисел\n",
    "print(record)\n",
    "\n",
    "map_output = list(map(lambda x: MAP(x), RECORDREADER(100)))  # Применяем функцию MAP ко всем элементам RECORDREADER(10)\n",
    "print(\"MAP output:\", map_output)\n",
    "\n",
    "shuffle_output = group_by_key(map_output)  # Группируем значения по ключу\n",
    "shuffle_output = list(shuffle_output)  # Преобразуем результат в список\n",
    "print(\"Shuffle output:\", shuffle_output)\n",
    "\n",
    "reduce_output = [el[0] for el in list(map(lambda x: REDUCE(*x), shuffle_output)) if el is not None]  # Применяем функцию REDUCE к результату группировки\n",
    "print(\"Reduce output:\", reduce_output)"
   ]
  },
  {
   "cell_type": "markdown",
   "metadata": {
    "id": "AVOpqoY3wE5k"
   },
   "source": [
    "### Difference (Разница)\n",
    "\n",
    "**The Map Function:** Для кортежа $t \\in R$, создайте пару $(t, R)$, и для кортежа $t \\in S$, создайте пару $(t, S)$. Задумка заключается в том, чтобы значение пары было именем отношения $R$ or $S$, которому принадлежит кортеж (а лучше, единичный бит, по которому можно два отношения различить $R$ or $S$), а не весь набор атрибутов отношения.\n",
    "\n",
    "**The Reduce Function:** Для каждого ключа $t$, если соответствующее значение является списком $[R]$, создайте пару $(t, t)$. В иных случаях не предпринимайте действий."
   ]
  },
  {
   "cell_type": "code",
   "execution_count": 71,
   "metadata": {
    "id": "QE_AC09lwZIZ"
   },
   "outputs": [
    {
     "name": "stdout",
     "output_type": "stream",
     "text": [
      "MAP output: [(((3, 3), (1, 0), (3, 2)), 1), (((0, 1), (3, 2), (2, 0)), 2), (((2, 3), (1, 0), (3, 2)), 2), (((1, 1), (1, 3), (3, 1)), 2), (((3, 1), (0, 0), (0, 2)), 1), (((3, 3), (0, 0), (0, 2)), 1), (((1, 3), (3, 2), (1, 2)), 2), (((2, 0), (2, 2), (0, 3)), 1), (((2, 2), (2, 3), (3, 3)), 1), (((2, 3), (1, 3), (2, 1)), 1), (((3, 3), (2, 0), (3, 1)), 1), (((1, 1), (3, 0), (0, 2)), 1), (((3, 2), (1, 1), (1, 2)), 2), (((1, 3), (0, 2), (3, 1)), 2), (((0, 2), (2, 2), (1, 1)), 1), (((1, 3), (3, 0), (2, 2)), 2), (((2, 1), (0, 2), (1, 2)), 2), (((1, 3), (2, 3), (1, 3)), 1), (((2, 1), (1, 3), (0, 1)), 2), (((0, 3), (0, 2), (0, 1)), 2), (((3, 0), (2, 0), (0, 3)), 2), (((1, 2), (2, 2), (2, 2)), 2), (((2, 1), (0, 2), (1, 2)), 1), (((3, 3), (3, 1), (3, 1)), 1), (((1, 1), (2, 2), (1, 1)), 1), (((3, 2), (2, 0), (3, 3)), 2), (((2, 3), (3, 1), (0, 1)), 2), (((3, 1), (2, 3), (0, 2)), 2), (((0, 1), (0, 3), (3, 1)), 1), (((1, 1), (1, 0), (0, 3)), 2), (((0, 1), (0, 0), (1, 2)), 2), (((0, 2), (3, 1), (1, 1)), 2), (((2, 1), (3, 2), (1, 2)), 1), (((1, 0), (2, 0), (1, 0)), 2), (((3, 0), (2, 0), (3, 0)), 2), (((0, 1), (2, 0), (3, 2)), 2), (((0, 0), (2, 0), (2, 1)), 2), (((1, 0), (0, 0), (3, 3)), 1), (((2, 3), (1, 1), (0, 2)), 1), (((1, 2), (3, 2), (3, 0)), 1), (((1, 2), (0, 2), (3, 2)), 2), (((1, 0), (0, 0), (3, 2)), 2), (((3, 3), (0, 1), (2, 3)), 2), (((0, 0), (2, 3), (1, 3)), 1), (((1, 2), (1, 3), (0, 3)), 2), (((3, 2), (3, 3), (3, 3)), 1), (((1, 0), (0, 0), (1, 1)), 1), (((0, 2), (1, 1), (0, 1)), 2), (((0, 0), (0, 2), (3, 0)), 2), (((0, 2), (3, 2), (2, 0)), 2), (((1, 0), (0, 2), (2, 3)), 1), (((1, 1), (1, 3), (1, 1)), 1), (((3, 2), (0, 0), (2, 1)), 1), (((1, 0), (1, 0), (1, 3)), 1), (((0, 2), (2, 3), (1, 2)), 1), (((1, 1), (3, 1), (1, 3)), 2), (((2, 3), (3, 1), (3, 3)), 1), (((0, 1), (0, 2), (3, 1)), 2), (((3, 0), (0, 2), (3, 3)), 1), (((3, 1), (2, 0), (1, 1)), 2), (((0, 3), (1, 0), (3, 2)), 2), (((2, 3), (3, 3), (3, 3)), 2), (((0, 3), (1, 2), (0, 0)), 2), (((2, 1), (3, 2), (3, 1)), 2), (((0, 0), (2, 3), (0, 3)), 2), (((0, 2), (0, 0), (1, 2)), 2), (((1, 0), (1, 1), (0, 1)), 1), (((0, 1), (1, 0), (3, 3)), 2), (((3, 2), (0, 1), (0, 2)), 2), (((1, 0), (1, 0), (3, 2)), 1), (((3, 2), (0, 1), (1, 3)), 1), (((2, 0), (0, 3), (0, 2)), 1), (((3, 2), (1, 1), (0, 1)), 2), (((3, 1), (1, 2), (2, 3)), 1), (((2, 3), (1, 1), (3, 3)), 1), (((3, 2), (1, 0), (3, 0)), 1), (((1, 2), (1, 0), (3, 1)), 2), (((3, 3), (0, 2), (3, 3)), 2), (((1, 1), (3, 2), (2, 2)), 2), (((0, 3), (1, 2), (3, 0)), 1), (((2, 3), (3, 3), (2, 3)), 1), (((3, 1), (3, 1), (2, 1)), 2), (((0, 0), (2, 2), (1, 3)), 2), (((1, 1), (3, 1), (2, 3)), 1), (((3, 1), (3, 2), (1, 2)), 1), (((0, 2), (0, 0), (1, 3)), 1), (((1, 3), (2, 2), (0, 2)), 1), (((0, 2), (1, 0), (1, 0)), 2), (((0, 3), (0, 1), (0, 0)), 1), (((1, 0), (0, 0), (1, 3)), 1), (((3, 1), (3, 0), (0, 2)), 2), (((2, 0), (0, 1), (1, 0)), 1), (((0, 2), (0, 3), (1, 0)), 2), (((2, 1), (2, 2), (3, 2)), 1), (((0, 0), (3, 2), (2, 2)), 2), (((1, 3), (3, 1), (1, 0)), 2), (((1, 0), (3, 3), (0, 0)), 2), (((2, 3), (0, 1), (1, 1)), 2), (((3, 3), (2, 3), (3, 0)), 1), (((3, 2), (3, 0), (3, 2)), 2)]\n",
      "Shuffle output: [(((3, 3), (1, 0), (3, 2)), [1]), (((0, 1), (3, 2), (2, 0)), [2]), (((2, 3), (1, 0), (3, 2)), [2]), (((1, 1), (1, 3), (3, 1)), [2]), (((3, 1), (0, 0), (0, 2)), [1]), (((3, 3), (0, 0), (0, 2)), [1]), (((1, 3), (3, 2), (1, 2)), [2]), (((2, 0), (2, 2), (0, 3)), [1]), (((2, 2), (2, 3), (3, 3)), [1]), (((2, 3), (1, 3), (2, 1)), [1]), (((3, 3), (2, 0), (3, 1)), [1]), (((1, 1), (3, 0), (0, 2)), [1]), (((3, 2), (1, 1), (1, 2)), [2]), (((1, 3), (0, 2), (3, 1)), [2]), (((0, 2), (2, 2), (1, 1)), [1]), (((1, 3), (3, 0), (2, 2)), [2]), (((2, 1), (0, 2), (1, 2)), [2, 1]), (((1, 3), (2, 3), (1, 3)), [1]), (((2, 1), (1, 3), (0, 1)), [2]), (((0, 3), (0, 2), (0, 1)), [2]), (((3, 0), (2, 0), (0, 3)), [2]), (((1, 2), (2, 2), (2, 2)), [2]), (((3, 3), (3, 1), (3, 1)), [1]), (((1, 1), (2, 2), (1, 1)), [1]), (((3, 2), (2, 0), (3, 3)), [2]), (((2, 3), (3, 1), (0, 1)), [2]), (((3, 1), (2, 3), (0, 2)), [2]), (((0, 1), (0, 3), (3, 1)), [1]), (((1, 1), (1, 0), (0, 3)), [2]), (((0, 1), (0, 0), (1, 2)), [2]), (((0, 2), (3, 1), (1, 1)), [2]), (((2, 1), (3, 2), (1, 2)), [1]), (((1, 0), (2, 0), (1, 0)), [2]), (((3, 0), (2, 0), (3, 0)), [2]), (((0, 1), (2, 0), (3, 2)), [2]), (((0, 0), (2, 0), (2, 1)), [2]), (((1, 0), (0, 0), (3, 3)), [1]), (((2, 3), (1, 1), (0, 2)), [1]), (((1, 2), (3, 2), (3, 0)), [1]), (((1, 2), (0, 2), (3, 2)), [2]), (((1, 0), (0, 0), (3, 2)), [2]), (((3, 3), (0, 1), (2, 3)), [2]), (((0, 0), (2, 3), (1, 3)), [1]), (((1, 2), (1, 3), (0, 3)), [2]), (((3, 2), (3, 3), (3, 3)), [1]), (((1, 0), (0, 0), (1, 1)), [1]), (((0, 2), (1, 1), (0, 1)), [2]), (((0, 0), (0, 2), (3, 0)), [2]), (((0, 2), (3, 2), (2, 0)), [2]), (((1, 0), (0, 2), (2, 3)), [1]), (((1, 1), (1, 3), (1, 1)), [1]), (((3, 2), (0, 0), (2, 1)), [1]), (((1, 0), (1, 0), (1, 3)), [1]), (((0, 2), (2, 3), (1, 2)), [1]), (((1, 1), (3, 1), (1, 3)), [2]), (((2, 3), (3, 1), (3, 3)), [1]), (((0, 1), (0, 2), (3, 1)), [2]), (((3, 0), (0, 2), (3, 3)), [1]), (((3, 1), (2, 0), (1, 1)), [2]), (((0, 3), (1, 0), (3, 2)), [2]), (((2, 3), (3, 3), (3, 3)), [2]), (((0, 3), (1, 2), (0, 0)), [2]), (((2, 1), (3, 2), (3, 1)), [2]), (((0, 0), (2, 3), (0, 3)), [2]), (((0, 2), (0, 0), (1, 2)), [2]), (((1, 0), (1, 1), (0, 1)), [1]), (((0, 1), (1, 0), (3, 3)), [2]), (((3, 2), (0, 1), (0, 2)), [2]), (((1, 0), (1, 0), (3, 2)), [1]), (((3, 2), (0, 1), (1, 3)), [1]), (((2, 0), (0, 3), (0, 2)), [1]), (((3, 2), (1, 1), (0, 1)), [2]), (((3, 1), (1, 2), (2, 3)), [1]), (((2, 3), (1, 1), (3, 3)), [1]), (((3, 2), (1, 0), (3, 0)), [1]), (((1, 2), (1, 0), (3, 1)), [2]), (((3, 3), (0, 2), (3, 3)), [2]), (((1, 1), (3, 2), (2, 2)), [2]), (((0, 3), (1, 2), (3, 0)), [1]), (((2, 3), (3, 3), (2, 3)), [1]), (((3, 1), (3, 1), (2, 1)), [2]), (((0, 0), (2, 2), (1, 3)), [2]), (((1, 1), (3, 1), (2, 3)), [1]), (((3, 1), (3, 2), (1, 2)), [1]), (((0, 2), (0, 0), (1, 3)), [1]), (((1, 3), (2, 2), (0, 2)), [1]), (((0, 2), (1, 0), (1, 0)), [2]), (((0, 3), (0, 1), (0, 0)), [1]), (((1, 0), (0, 0), (1, 3)), [1]), (((3, 1), (3, 0), (0, 2)), [2]), (((2, 0), (0, 1), (1, 0)), [1]), (((0, 2), (0, 3), (1, 0)), [2]), (((2, 1), (2, 2), (3, 2)), [1]), (((0, 0), (3, 2), (2, 2)), [2]), (((1, 3), (3, 1), (1, 0)), [2]), (((1, 0), (3, 3), (0, 0)), [2]), (((2, 3), (0, 1), (1, 1)), [2]), (((3, 3), (2, 3), (3, 0)), [1]), (((3, 2), (3, 0), (3, 2)), [2])]\n",
      "Reduce output: [((3, 3), (1, 0), (3, 2)), ((3, 1), (0, 0), (0, 2)), ((3, 3), (0, 0), (0, 2)), ((2, 0), (2, 2), (0, 3)), ((2, 2), (2, 3), (3, 3)), ((2, 3), (1, 3), (2, 1)), ((3, 3), (2, 0), (3, 1)), ((1, 1), (3, 0), (0, 2)), ((0, 2), (2, 2), (1, 1)), ((1, 3), (2, 3), (1, 3)), ((3, 3), (3, 1), (3, 1)), ((1, 1), (2, 2), (1, 1)), ((0, 1), (0, 3), (3, 1)), ((2, 1), (3, 2), (1, 2)), ((1, 0), (0, 0), (3, 3)), ((2, 3), (1, 1), (0, 2)), ((1, 2), (3, 2), (3, 0)), ((0, 0), (2, 3), (1, 3)), ((3, 2), (3, 3), (3, 3)), ((1, 0), (0, 0), (1, 1)), ((1, 0), (0, 2), (2, 3)), ((1, 1), (1, 3), (1, 1)), ((3, 2), (0, 0), (2, 1)), ((1, 0), (1, 0), (1, 3)), ((0, 2), (2, 3), (1, 2)), ((2, 3), (3, 1), (3, 3)), ((3, 0), (0, 2), (3, 3)), ((1, 0), (1, 1), (0, 1)), ((1, 0), (1, 0), (3, 2)), ((3, 2), (0, 1), (1, 3)), ((2, 0), (0, 3), (0, 2)), ((3, 1), (1, 2), (2, 3)), ((2, 3), (1, 1), (3, 3)), ((3, 2), (1, 0), (3, 0)), ((0, 3), (1, 2), (3, 0)), ((2, 3), (3, 3), (2, 3)), ((1, 1), (3, 1), (2, 3)), ((3, 1), (3, 2), (1, 2)), ((0, 2), (0, 0), (1, 3)), ((1, 3), (2, 2), (0, 2)), ((0, 3), (0, 1), (0, 0)), ((1, 0), (0, 0), (1, 3)), ((2, 0), (0, 1), (1, 0)), ((2, 1), (2, 2), (3, 2)), ((3, 3), (2, 3), (3, 0))]\n"
     ]
    }
   ],
   "source": [
    "rels = [1, 2]  # Инициализация массива rels с элементами 1 и 2\n",
    "\n",
    "class Tuple:  # Определение класса Tuple для хранения данных и id представления\n",
    "    def __init__(self, data: tuple, rel_id: int):\n",
    "        self.data = data\n",
    "        self.rel_id = rel_id\n",
    "\n",
    "def get_random_tuple(count):\n",
    "    data = tuple([(random.randint(0, 3), random.randint(0, 3)) for i in range(count)])  # Генерация случайного кортежа данных\n",
    "    rel_id = rels[random.randint(0, len(rels) - 1)]  # Выбор случайного id представления из массива rels\n",
    "    return Tuple(data, rel_id)  # Возвращает экземпляр класса Tuple с данными и id представления\n",
    "\n",
    "def RECORDREADER(count):\n",
    "    return [get_random_tuple(3) for i in range(count)]  # Генерация списка случайных кортежей данных\n",
    "\n",
    "def MAP(t: Tuple):\n",
    "    return (t.data, t.rel_id)  # Функция MAP возвращает кортеж из данных и id представления\n",
    "\n",
    "def REDUCE(key, values: Iterator[NamedTuple]):\n",
    "    if values == [rels[0]]:  # Если значение соответствует первому элементу в массиве rels\n",
    "        return (key, key)  # Возвращает кортеж с ключом и значением равными ключу\n",
    "\n",
    "def group_by_key(iterable):\n",
    "    t = {}\n",
    "    for (k2, v2) in iterable:\n",
    "        t[k2] = t.get(k2, []) + [v2]  # Группировка значений по ключу k2\n",
    "    return t.items()  # Возвращает список кортежей (ключ, список значений)\n",
    "\n",
    "record = RECORDREADER(100)  # Генерация списка случайных кортежей данных\n",
    "\n",
    "map_output = list(map(lambda x: MAP(x), RECORDREADER(100)))  # Применение функции MAP к каждому элементу из RECORDREADER(100)\n",
    "print(\"MAP output:\", map_output)\n",
    "\n",
    "shuffle_output = group_by_key(map_output)  # Группировка значений по ключу\n",
    "shuffle_output = list(shuffle_output)  # Преобразование результата в список\n",
    "print(\"Shuffle output:\", shuffle_output)\n",
    "\n",
    "reduce_output = [el[0] for el in list(map(lambda x: REDUCE(*x), shuffle_output)) if el is not None]  # Применение функции REDUCE к результату группировки\n",
    "print(\"Reduce output:\", reduce_output)\n",
    "     "
   ]
  },
  {
   "cell_type": "markdown",
   "metadata": {
    "id": "j8I58V2VwhSm"
   },
   "source": [
    "### Natural Join\n",
    "\n",
    "**The Map Function:** Для каждого кортежа $(a, b)$ отношения $R$, создайте пару $(b,(R, a))$. Для каждого кортежа $(b, c)$ отношения $S$, создайте пару $(b,(S, c))$.\n",
    "\n",
    "**The Reduce Function:** Каждый ключ $b$ будет асоциирован со списком пар, которые принимают форму либо $(R, a)$, либо $(S, c)$. Создайте все пары, одни, состоящие из  первого компонента $R$, а другие, из первого компонента $S$, то есть $(R, a)$ и $(S, c)$. На выходе вы получаете последовательность пар ключ-значение из списков ключей и значений. Ключ не нужен. Каждое значение, это тройка $(a, b, c)$ такая, что $(R, a)$ и $(S, c)$ это принадлежат входному списку значений."
   ]
  },
  {
   "cell_type": "code",
   "execution_count": 73,
   "metadata": {
    "id": "yHiuuTctw86I"
   },
   "outputs": [
    {
     "name": "stdout",
     "output_type": "stream",
     "text": [
      "MAP output: [(2, (1, 3)), (3, (1, 2)), (2, (2, 2)), (3, (1, 3)), (3, (2, 0)), (2, (1, 2)), (0, (1, 2)), (1, (1, 2)), (0, (2, 3)), (2, (1, 0)), (0, (2, 3)), (0, (1, 2)), (1, (2, 1)), (0, (1, 2)), (1, (2, 1)), (1, (2, 1)), (0, (2, 3)), (2, (2, 3)), (3, (2, 1)), (0, (2, 3)), (2, (1, 0)), (1, (2, 3)), (2, (2, 2)), (3, (1, 0)), (3, (1, 1)), (1, (2, 2)), (0, (2, 1)), (0, (2, 3)), (1, (2, 2)), (3, (1, 3)), (0, (1, 0)), (2, (1, 1)), (0, (1, 2)), (3, (2, 1)), (0, (1, 0)), (3, (1, 3)), (1, (2, 0)), (0, (1, 0)), (2, (2, 0)), (0, (2, 0)), (1, (2, 0)), (3, (1, 0)), (1, (1, 3)), (3, (2, 2)), (1, (2, 3)), (3, (1, 1)), (3, (2, 1)), (0, (2, 0)), (1, (1, 0)), (0, (1, 2)), (2, (2, 2)), (0, (1, 3)), (2, (2, 1)), (0, (1, 1)), (0, (2, 3)), (3, (2, 2)), (2, (2, 2)), (1, (1, 3)), (3, (2, 2)), (0, (1, 2)), (2, (2, 0)), (1, (1, 1)), (3, (1, 1)), (0, (2, 3)), (3, (2, 1)), (3, (1, 0)), (0, (2, 0)), (0, (2, 1)), (2, (1, 2)), (2, (2, 3)), (2, (1, 2)), (0, (1, 0)), (1, (2, 0)), (0, (2, 0)), (1, (1, 3)), (1, (1, 0)), (1, (1, 2)), (1, (2, 0)), (3, (1, 0)), (2, (2, 2)), (0, (1, 2)), (0, (1, 0)), (0, (2, 1)), (2, (2, 3)), (2, (1, 2)), (2, (1, 2)), (3, (2, 0)), (0, (1, 3)), (1, (1, 1)), (0, (2, 3)), (2, (1, 1)), (1, (1, 1)), (3, (2, 2)), (2, (1, 3)), (0, (1, 0)), (0, (1, 3)), (3, (2, 3)), (3, (2, 1)), (1, (1, 2)), (0, (1, 1))]\n",
      "Shuffle output: [(2, [(1, 3), (2, 2), (1, 2), (1, 0), (2, 3), (1, 0), (2, 2), (1, 1), (2, 0), (2, 2), (2, 1), (2, 2), (2, 0), (1, 2), (2, 3), (1, 2), (2, 2), (2, 3), (1, 2), (1, 2), (1, 1), (1, 3)]), (3, [(1, 2), (1, 3), (2, 0), (2, 1), (1, 0), (1, 1), (1, 3), (2, 1), (1, 3), (1, 0), (2, 2), (1, 1), (2, 1), (2, 2), (2, 2), (1, 1), (2, 1), (1, 0), (1, 0), (2, 0), (2, 2), (2, 3), (2, 1)]), (0, [(1, 2), (2, 3), (2, 3), (1, 2), (1, 2), (2, 3), (2, 3), (2, 1), (2, 3), (1, 0), (1, 2), (1, 0), (1, 0), (2, 0), (2, 0), (1, 2), (1, 3), (1, 1), (2, 3), (1, 2), (2, 3), (2, 0), (2, 1), (1, 0), (2, 0), (1, 2), (1, 0), (2, 1), (1, 3), (2, 3), (1, 0), (1, 3), (1, 1)]), (1, [(1, 2), (2, 1), (2, 1), (2, 1), (2, 3), (2, 2), (2, 2), (2, 0), (2, 0), (1, 3), (2, 3), (1, 0), (1, 3), (1, 1), (2, 0), (1, 3), (1, 0), (1, 2), (2, 0), (1, 1), (1, 1), (1, 2)])]\n",
      "Reduce output: [[(1, 2, 3), (2, 2, 2), (1, 2, 2), (1, 2, 0), (2, 2, 3), (1, 2, 0), (2, 2, 2), (1, 2, 1), (2, 2, 0), (2, 2, 2), (2, 2, 1), (2, 2, 2), (2, 2, 0), (1, 2, 2), (2, 2, 3), (1, 2, 2), (2, 2, 2), (2, 2, 3), (1, 2, 2), (1, 2, 2), (1, 2, 1), (1, 2, 3)], [(1, 3, 2), (1, 3, 3), (2, 3, 0), (2, 3, 1), (1, 3, 0), (1, 3, 1), (1, 3, 3), (2, 3, 1), (1, 3, 3), (1, 3, 0), (2, 3, 2), (1, 3, 1), (2, 3, 1), (2, 3, 2), (2, 3, 2), (1, 3, 1), (2, 3, 1), (1, 3, 0), (1, 3, 0), (2, 3, 0), (2, 3, 2), (2, 3, 3), (2, 3, 1)], [(1, 0, 2), (2, 0, 3), (2, 0, 3), (1, 0, 2), (1, 0, 2), (2, 0, 3), (2, 0, 3), (2, 0, 1), (2, 0, 3), (1, 0, 0), (1, 0, 2), (1, 0, 0), (1, 0, 0), (2, 0, 0), (2, 0, 0), (1, 0, 2), (1, 0, 3), (1, 0, 1), (2, 0, 3), (1, 0, 2), (2, 0, 3), (2, 0, 0), (2, 0, 1), (1, 0, 0), (2, 0, 0), (1, 0, 2), (1, 0, 0), (2, 0, 1), (1, 0, 3), (2, 0, 3), (1, 0, 0), (1, 0, 3), (1, 0, 1)], [(1, 1, 2), (2, 1, 1), (2, 1, 1), (2, 1, 1), (2, 1, 3), (2, 1, 2), (2, 1, 2), (2, 1, 0), (2, 1, 0), (1, 1, 3), (2, 1, 3), (1, 1, 0), (1, 1, 3), (1, 1, 1), (2, 1, 0), (1, 1, 3), (1, 1, 0), (1, 1, 2), (2, 1, 0), (1, 1, 1), (1, 1, 1), (1, 1, 2)]]\n"
     ]
    }
   ],
   "source": [
    "rels = [1, 2]  # Инициализация списка идентификаторов связей\n",
    "\n",
    "class Tuple:  # Определение класса кортежа, хранящего данные и идентификатор связи из массива rels выше\n",
    "  def __init__(self, data: tuple, rel_id: int):\n",
    "    self.data = data\n",
    "    self.rel_id = rel_id\n",
    "\n",
    "def get_random_tuple():  # Функция для генерации случайного кортежа с данными и идентификатором связи\n",
    "  data = (random.randint(0, 3), random.randint(0, 3))\n",
    "  rel_id = rels[random.randint(0, len(rels) - 1)]\n",
    "  return Tuple(data, rel_id)\n",
    "\n",
    "def RECORDREADER(count):  # Функция для создания списка случайных кортежей заданного количества\n",
    "  return [get_random_tuple() for i in range(count)]\n",
    "\n",
    "def MAP(t: Tuple):  # Функция для преобразования данных кортежа в соответствии с условием\n",
    "  if t.rel_id == rels[0]:\n",
    "    return (t.data[1], (t.rel_id, t.data[0]))\n",
    "  else:\n",
    "    return (t.data[0], (t.rel_id, t.data[1]))\n",
    "\n",
    "def REDUCE(key, values: Iterator[NamedTuple]):  # Функция для объединения данных по ключу\n",
    "  res = []\n",
    "  for v in values:\n",
    "    res.append((v[0], key, v[1]))\n",
    "  return res\n",
    "\n",
    "def group_by_key(iterable):  # Функция для группировки данных по ключу\n",
    "  t = {}\n",
    "  for (k2, v2) in iterable:\n",
    "    t[k2] = t.get(k2, []) + [v2]\n",
    "  return t.items()\n",
    "\n",
    "record = RECORDREADER(100)  # Создание списка случайных кортежей\n",
    "\n",
    "map_output = list(map(lambda x: MAP(x), RECORDREADER(100)))  # Применение функции MAP к каждому элементу\n",
    "print(\"MAP output:\", map_output)\n",
    "\n",
    "shuffle_output = group_by_key(map_output)  # Группировка данных по ключу\n",
    "shuffle_output = list(shuffle_output)\n",
    "print(\"Shuffle output:\", shuffle_output)\n",
    "\n",
    "reduce_output = list(map(lambda x: REDUCE(*x), shuffle_output))  # Применение функции REDUCE к каждой группе\n",
    "print(\"Reduce output:\", reduce_output)"
   ]
  },
  {
   "cell_type": "markdown",
   "metadata": {
    "id": "kYdlr0YUxE27"
   },
   "source": [
    "### Grouping and Aggregation (Группировка и аггрегация)\n",
    "\n",
    "**The Map Function:** Для каждого кортежа $(a, b, c$) создайте пару $(a, b)$.\n",
    "\n",
    "**The Reduce Function:** Ключ представляет ту или иную группу. Примение аггрегирующую операцию $\\theta$ к списку значений $[b1, b2, . . . , bn]$ ассоциированных с ключом $a$. Возвращайте в выходной поток $(a, x)$, где $x$ результат применения  $\\theta$ к списку. Например, если $\\theta$ это $SUM$, тогда $x = b1 + b2 + · · · + bn$, а если $\\theta$ is $MAX$, тогда $x$ это максимальное из значений $b1, b2, . . . , bn$."
   ]
  },
  {
   "cell_type": "code",
   "execution_count": 87,
   "metadata": {
    "id": "MLPckfEGxico"
   },
   "outputs": [
    {
     "name": "stdout",
     "output_type": "stream",
     "text": [
      "MAP output: [(0, 1), (1, 2), (1, 2), (0, 1), (2, 3), (0, 1), (2, 1), (0, 0), (3, 1), (3, 0), (2, 0), (2, 3), (1, 0), (1, 0), (0, 2), (0, 0), (2, 1), (2, 3), (0, 2), (3, 3), (0, 3), (0, 2), (3, 0), (2, 3), (3, 0), (3, 0), (2, 2), (0, 1), (1, 3), (3, 2), (2, 0), (0, 0), (1, 2), (2, 3), (1, 1), (0, 1), (0, 0), (2, 3), (1, 2), (2, 0), (3, 1), (1, 1), (0, 0), (0, 1), (2, 1), (0, 3), (1, 2), (0, 1), (3, 0), (2, 1), (1, 3), (2, 1), (3, 3), (2, 3), (1, 1), (2, 2), (2, 2), (1, 3), (2, 3), (2, 1), (3, 3), (0, 2), (1, 3), (1, 0), (1, 3), (0, 3), (0, 2), (3, 3), (1, 3), (0, 3), (0, 2), (3, 1), (1, 3), (0, 3), (0, 2), (0, 3), (2, 2), (1, 2), (1, 1), (0, 3), (3, 1), (1, 0), (1, 1), (0, 1), (3, 2), (3, 3), (2, 0), (3, 0), (2, 2), (0, 2), (1, 3), (2, 1), (1, 1), (2, 1), (1, 1), (0, 3), (1, 3), (1, 2), (2, 1), (2, 0)]\n",
      "Shuffle output: [(0, [1, 1, 1, 0, 2, 0, 2, 3, 2, 1, 0, 1, 0, 0, 1, 3, 1, 2, 3, 2, 3, 2, 3, 2, 3, 3, 1, 2, 3]), (1, [2, 2, 0, 0, 3, 2, 1, 2, 1, 2, 3, 1, 3, 3, 0, 3, 3, 3, 2, 1, 0, 1, 3, 1, 1, 3, 2]), (2, [3, 1, 0, 3, 1, 3, 3, 2, 0, 3, 3, 0, 1, 1, 1, 3, 2, 2, 3, 1, 2, 0, 2, 1, 1, 1, 0]), (3, [1, 0, 3, 0, 0, 0, 2, 1, 0, 3, 3, 3, 1, 1, 2, 3, 0])]\n",
      "Reduce output: [(0, 48), (1, 48), (2, 43), (3, 23)]\n"
     ]
    }
   ],
   "source": [
    "def get_random_tuple():  # Функция для генерации случайного кортежа с тремя случайными значениями от 0 до 3\n",
    "  return (random.randint(0, 3), random.randint(0, 3), random.randint(0, 3))\n",
    "\n",
    "def RECORDREADER(count):  # Функция для создания списка случайных кортежей заданного количества\n",
    "  return [get_random_tuple() for i in range(count)]\n",
    "\n",
    "def MAP(t: Tuple):  # Функция для преобразования входного кортежа, возвращающая первые два элемента кортежа\n",
    "  return (t[0], t[1])\n",
    "\n",
    "def tetta(values):  # Функция для вычисления суммы значений в переданном списке\n",
    "  return sum(values)\n",
    "\n",
    "def REDUCE(key, values: Iterator[NamedTuple]):  # Функция для вычисления суммы значений в переданных значениях и возврата пары (ключ, сумма)\n",
    "  x = tetta(values)\n",
    "  return (key, x)\n",
    "\n",
    "def group_by_key(iterable):  # Функция для группировки данных по ключу\n",
    "  t = {}\n",
    "  for (k2, v2) in iterable:\n",
    "    t[k2] = t.get(k2, []) + [v2]\n",
    "  return t.items()\n",
    "\n",
    "record = RECORDREADER(100)  # Создание списка случайных кортежей\n",
    "\n",
    "map_output = list(map(lambda x: MAP(x), RECORDREADER(100)))  # Применение функции MAP к каждому элементу\n",
    "print(\"MAP output:\", map_output)\n",
    "\n",
    "shuffle_output = group_by_key(map_output)  # Группировка данных по ключу\n",
    "shuffle_output = list(shuffle_output)\n",
    "print(\"Shuffle output:\", shuffle_output)\n",
    "\n",
    "reduce_output = list(map(lambda x: REDUCE(*x), shuffle_output))  # Применение функции REDUCE к каждой группе\n",
    "print(\"Reduce output:\", reduce_output)\n",
    "     "
   ]
  },
  {
   "cell_type": "markdown",
   "metadata": {
    "id": "03IffTEOJgOb"
   },
   "source": [
    "#"
   ]
  },
  {
   "cell_type": "markdown",
   "metadata": {
    "id": "IIrRgvG4RIS4"
   },
   "source": [
    "### Matrix-Vector multiplication\n",
    "\n",
    "Случай, когда вектор не помещается в памяти Map задачи\n"
   ]
  },
  {
   "cell_type": "code",
   "execution_count": null,
   "metadata": {
    "id": "KQhDbiL3zS9r"
   },
   "outputs": [],
   "source": []
  },
  {
   "cell_type": "markdown",
   "metadata": {
    "id": "GIo2t7nNxvA9"
   },
   "source": [
    "## Matrix multiplication (Перемножение матриц)\n",
    "\n",
    "Если у нас есть матрица $M$ с элементами $m_{ij}$ в строке $i$ и столбце $j$, и матрица $N$ с элементами $n_{jk}$ в строке $j$ и столбце $k$, тогда их произведение $P = MN$ есть матрица $P$ с элементами $p_{ik}$ в строке $i$ и столбце $k$, где\n",
    "\n",
    "$$p_{ik} =\\sum_{j} m_{ij}n_{jk}$$\n",
    "\n",
    "Необходимым требованием является одинаковое количество столбцов в $M$ и строк в $N$, чтобы операция суммирования по  $j$ была осмысленной. Мы можем размышлять о матрице, как об отношении с тремя атрибутами: номер строки, номер столбца, само значение. Таким образом матрица $M$ предстваляется как отношение $ M(I, J, V )$, с кортежами $(i, j, m_{ij})$, и, аналогично, матрица $N$ представляется как отношение $N(J, K, W)$, с кортежами $(j, k, n_{jk})$. Так как большие матрицы как правило разреженные (большинство значений равно 0), и так как мы можем нулевыми значениями пренебречь (не хранить), такое реляционное представление достаточно эффективно для больших матриц. Однако, возможно, что координаты $i$, $j$, и $k$ неявно закодированы в смещение позиции элемента относительно начала файла, вместо явного хранения. Тогда, функция Map (или Reader) должна быть разработана таким образом, чтобы реконструировать компоненты $I$, $J$, и $K$ кортежей из смещения.\n",
    "\n",
    "Произведение $MN$ это фактически join, за которым следуют группировка по ключу и аггрегация. Таким образом join отношений $M(I, J, V )$ и $N(J, K, W)$, имеющих общим только атрибут $J$, создаст кортежи $(i, j, k, v, w)$ из каждого кортежа $(i, j, v) \\in M$ и кортежа $(j, k, w) \\in N$. Такой 5 компонентный кортеж представляет пару элементов матрицы $(m_{ij} , n_{jk})$. Что нам хотелось бы получить на самом деле, это произведение этих элементов, то есть, 4 компонентный кортеж$(i, j, k, v \\times w)$, так как он представляет произведение $m_{ij}n_{jk}$. Мы представляем отношение как результат одной MapReduce операции, в которой мы можем произвести группировку и аггрегацию, с $I$ и $K$  атрибутами, по которым идёт группировка, и суммой  $V \\times W$.\n",
    "\n",
    "\n",
    "\n"
   ]
  },
  {
   "cell_type": "code",
   "execution_count": 93,
   "metadata": {
    "id": "1MBkGaLAYVCt"
   },
   "outputs": [],
   "source": [
    "# MapReduce model\n",
    "def flatten(nested_iterable):\n",
    "  for iterable in nested_iterable:\n",
    "    for element in iterable:\n",
    "      yield element\n",
    "\n",
    "def groupbykey(iterable):\n",
    "  t = {}\n",
    "  for (k2, v2) in iterable:\n",
    "    t[k2] = t.get(k2, []) + [v2]\n",
    "  return t.items()\n",
    "\n",
    "def MapReduce(RECORDREADER, MAP, REDUCE):\n",
    "  return flatten(map(lambda x: REDUCE(*x), groupbykey(flatten(map(lambda x: MAP(*x), RECORDREADER())))))"
   ]
  },
  {
   "cell_type": "markdown",
   "metadata": {
    "id": "sMspsOT0ZB35"
   },
   "source": [
    "Реализуйте перемножение матриц с использованием модельного кода MapReduce для одной машины в случае, когда одна матрица хранится в памяти, а другая генерируется RECORDREADER-ом."
   ]
  },
  {
   "cell_type": "code",
   "execution_count": 101,
   "metadata": {
    "id": "psP1XekbsEjS"
   },
   "outputs": [],
   "source": [
    "import numpy as np\n",
    "I = 2\n",
    "J = 3\n",
    "K = 4*10\n",
    "small_mat = np.random.rand(I,J) # it is legal to access this from RECORDREADER, MAP, REDUCE\n",
    "big_mat = np.random.rand(J,K)\n",
    "\n",
    "def RECORDREADER():\n",
    "  for j in range(big_mat.shape[0]):\n",
    "    for k in range(big_mat.shape[1]):\n",
    "      yield ((j, k), big_mat[j,k])\n",
    "\n",
    "def MAP(k1, v1):\n",
    "  (j, k) = k1\n",
    "  w = v1\n",
    "  for i in range(small_mat.shape[0]):\n",
    "    yield ((i, k), w * small_mat[i][j])\n",
    "\n",
    "def REDUCE(key, values):\n",
    "  (i, k) = key\n",
    "  el_value = 0\n",
    "  for v in values:\n",
    "    el_value += v\n",
    "  yield ((i, k), el_value)"
   ]
  },
  {
   "cell_type": "markdown",
   "metadata": {
    "id": "rnt306LHhHrm"
   },
   "source": [
    "Проверьте своё решение"
   ]
  },
  {
   "cell_type": "code",
   "execution_count": 103,
   "metadata": {
    "colab": {
     "base_uri": "https://localhost:8080/",
     "height": 34
    },
    "id": "Ewy_ZNYqW5a2",
    "outputId": "9ce264f2-9412-44e2-9b0a-cc780573ab3a"
   },
   "outputs": [
    {
     "data": {
      "text/plain": [
       "True"
      ]
     },
     "execution_count": 103,
     "metadata": {},
     "output_type": "execute_result"
    }
   ],
   "source": [
    "# CHECK THE SOLUTION\n",
    "reference_solution = np.matmul(small_mat, big_mat)\n",
    "solution = MapReduce(RECORDREADER, MAP, REDUCE)\n",
    "\n",
    "def asmatrix(reduce_output):\n",
    "  reduce_output = list(reduce_output)\n",
    "  I = max(i for ((i,k), vw) in reduce_output)+1\n",
    "  K = max(k for ((i,k), vw) in reduce_output)+1\n",
    "  mat = np.empty(shape=(I,K))\n",
    "  for ((i,k), vw) in reduce_output:\n",
    "    mat[i,k] = vw\n",
    "  return mat\n",
    "\n",
    "np.allclose(reference_solution, asmatrix(solution)) # should return true"
   ]
  },
  {
   "cell_type": "code",
   "execution_count": 105,
   "metadata": {
    "colab": {
     "base_uri": "https://localhost:8080/",
     "height": 34
    },
    "id": "TK7v4CEcfxqf",
    "outputId": "2c865d0a-4065-4e6b-c83f-5508ed5eb4fa"
   },
   "outputs": [
    {
     "data": {
      "text/plain": [
       "1"
      ]
     },
     "execution_count": 105,
     "metadata": {},
     "output_type": "execute_result"
    }
   ],
   "source": [
    "reduce_output = list(MapReduce(RECORDREADER, MAP, REDUCE))\n",
    "max(i for ((i,k), vw) in reduce_output)"
   ]
  },
  {
   "cell_type": "markdown",
   "metadata": {
    "id": "i4yyg3kOZqJJ"
   },
   "source": [
    "Реализуйте перемножение матриц  с использованием модельного кода MapReduce для одной машины в случае, когда обе матрицы генерируются в RECORDREADER. Например, сначала одна, а потом другая."
   ]
  },
  {
   "cell_type": "code",
   "execution_count": 108,
   "metadata": {
    "id": "3B7rIAJCaHZq"
   },
   "outputs": [
    {
     "data": {
      "text/plain": [
       "True"
      ]
     },
     "execution_count": 108,
     "metadata": {},
     "output_type": "execute_result"
    }
   ],
   "source": [
    "import numpy as np  # Импорт библиотеки numpy под псевдонимом np\n",
    "I = 2  # Задание значения переменной I равным 2\n",
    "J = 3  # Задание значения переменной J равным 3\n",
    "K = 4*10  # Задание значения переменной K равным 40\n",
    "small_mat = np.random.rand(I,J)  # Создание случайной матрицы размером IxJ\n",
    "big_mat = np.random.rand(J,K)  # Создание случайной матрицы размером JxK\n",
    "reference_solution = np.matmul(small_mat, big_mat)  # Вычисление матричного произведения small_mat и big_mat\n",
    "\n",
    "def RECORDREADER():  # Определение функции RECORDREADER без аргументов\n",
    "  for i in range(small_mat.shape[0]):  # Цикл по строкам матрицы small_mat\n",
    "    for j in range(small_mat.shape[1]):  # Цикл по столбцам матрицы small_mat\n",
    "      yield ((0, i, j), small_mat[i,j])  # Генерация кортежа для первой матрицы\n",
    "\n",
    "  for j in range(big_mat.shape[0]):  # Цикл по строкам матрицы big_mat\n",
    "    for k in range(big_mat.shape[1]):  # Цикл по столбцам матрицы big_mat\n",
    "      yield ((1, j, k), big_mat[j,k])  # Генерация кортежа для второй матрицы\n",
    "\n",
    "def MAP_JOIN(k1, v1):  # Определение функции MAP_JOIN с ключем k1 и значением v1\n",
    "  (mat_num, i, j) = k1  # Распаковка ключа\n",
    "  w = v1  # Присвоение значения из значения\n",
    "  if mat_num == 0:  # Если номер матрицы равен 0\n",
    "    yield (j, (mat_num, i, w))  # Генерация значения для первой матрицы\n",
    "  else:  # Иначе\n",
    "    yield (i, (mat_num, j, w))  # Генерация значения для второй матрицы\n",
    "\n",
    "def REDUCE_JOIN(key, values):  # Определение функции REDUCE_JOIN с ключем key и значениями values\n",
    "  from_first_mat = [v for v in values if v[0] == 0]  # Фильтрация значений для первой матрицы\n",
    "  from_second_mat = [v for v in values if v[0] == 1]  # Фильтрация значений для второй матрицы\n",
    "  for f in from_first_mat:  # Цикл по элементам из первой матрицы\n",
    "    for s in from_second_mat:  # Цикл по элементам из второй матрицы\n",
    "      yield ((f[1], s[1]), f[2] * s[2])  # Генерация умноженных значений\n",
    "\n",
    "\n",
    "def MAP_MUL(k1, v1):  # Определение функции MAP_MUL с ключем k1 и значением v1\n",
    "  (i, k) = k1  # Распаковка ключа\n",
    "  yield ((i, k), v1)  # Генерация кортежа с ключом (i, k) и значением v1\n",
    "\n",
    "def REDUCE_MUL(key, values):  # Определение функции REDUCE_MUL с ключем key и значениями values\n",
    "  res_el_value = 0  # Инициализация переменной для хранения результата\n",
    "  for v in values:  # Цикл по значениям\n",
    "    res_el_value += v  # Суммирование значений\n",
    "  yield (key, res_el_value)  # Генерация кортежа с ключом key и суммой значений\n",
    "\n",
    "def GET_JOINED():  # Определение функции GET_JOINED без аргументов\n",
    "  for j in joined:  # Цикл по элементам из joined\n",
    "    yield j  # Генерация элемента\n",
    "\n",
    "\n",
    "joined = MapReduce(RECORDREADER, MAP_JOIN, REDUCE_JOIN)  # Применение MapReduce к функциям RECORDREADER, MAP_JOIN и REDUCE_JOIN\n",
    "solution = MapReduce(GET_JOINED, MAP_MUL, REDUCE_MUL)  # Применение MapReduce к функциям GET_JOINED, MAP_MUL и REDUCE_MUL\n",
    "np.allclose(reference_solution, asmatrix(solution))  # Проверка на равенство решения с эталонным значением и вывод результата (True/False)\n",
    "     "
   ]
  },
  {
   "cell_type": "markdown",
   "metadata": {
    "id": "mXyzQi1DaIwo"
   },
   "source": [
    "Реализуйте перемножение матриц с использованием модельного кода MapReduce Distributed, когда каждая матрица генерируется в своём RECORDREADER."
   ]
  },
  {
   "cell_type": "code",
   "execution_count": 110,
   "metadata": {
    "id": "TDM_s78Rb5eR"
   },
   "outputs": [
    {
     "name": "stdout",
     "output_type": "stream",
     "text": [
      "126 key-value pairs were sent over a network.\n",
      "[(0, [((0, 0), 0.32472945756484656), ((0, 1), 0.39061349772243725), ((0, 2), 0.07615572771532945), ((0, 3), 0.1629251780362513), ((0, 4), 0.3708106391514218), ((0, 5), 0.043291382412708045), ((0, 6), 0.2948744717790148), ((0, 7), 0.454550408805967), ((0, 8), 0.2759143471404575), ((0, 9), 0.3479441164957003), ((0, 10), 0.11460047862666807), ((0, 11), 0.2220118247688503), ((0, 12), 0.48094869079084135), ((0, 13), 0.47669230181825345), ((0, 14), 0.17741511924493564), ((0, 15), 0.3158729655192467), ((0, 16), 0.01654147778453637), ((0, 17), 0.47989558523863074), ((0, 18), 0.08442645069719935), ((0, 19), 0.3999486384790662), ((0, 20), 0.25788330908229723), ((0, 21), 0.03638964034276429), ((0, 22), 0.03350947903068666), ((0, 23), 0.002879893755389733), ((0, 24), 0.2260087536096375), ((0, 25), 0.21925618651184503), ((0, 26), 0.24883948326225588), ((0, 27), 0.23424842953958203), ((0, 28), 0.10510645521808473), ((0, 29), 0.17736719554266772), ((0, 30), 0.15582244227367725), ((0, 31), 0.20430352825363207), ((0, 32), 0.49640971311058285), ((0, 33), 0.43252650702250806), ((0, 34), 0.24656565156842034), ((0, 35), 0.4278886848773788), ((0, 36), 0.052227393782667046), ((0, 37), 0.11554985742987595), ((0, 38), 0.1912163836600637), ((0, 39), 0.3219353808300674), ((1, 0), 0.5895221600307944), ((1, 1), 0.7091297310732285), ((1, 2), 0.13825505526394288), ((1, 3), 0.2957785339205095), ((1, 4), 0.6731791152987477), ((1, 5), 0.07859228251740098), ((1, 6), 0.5353226554951225), ((1, 7), 0.8252024342099077), ((1, 8), 0.5009019604488674), ((1, 9), 0.6316666454123282), ((1, 10), 0.2080486390338179), ((1, 11), 0.40304594314168346), ((1, 12), 0.8731265502834161), ((1, 13), 0.8653993929141153), ((1, 14), 0.3220839436733558), ((1, 15), 0.5734438579261111), ((1, 16), 0.030029821706871015), ((1, 17), 0.8712147155378552), ((1, 18), 0.15326993723323454), ((1, 19), 0.7260769842861294), ((1, 20), 0.4681679529357936), ((1, 21), 0.06606268349808149), ((1, 22), 0.06083396501141921), ((1, 23), 0.005228232757410124), ((1, 24), 0.41030206995376894), ((1, 25), 0.39804328699303754), ((1, 26), 0.4517495603071902), ((1, 27), 0.4252605883111761), ((1, 28), 0.1908129461922059), ((1, 29), 0.3219969417589329), ((1, 30), 0.2828840458125298), ((1, 31), 0.3708978488776066), ((1, 32), 0.9011948855141311), ((1, 33), 0.785219679799344), ((1, 34), 0.4476215881122786), ((1, 35), 0.7768000588960288), ((1, 36), 0.09481494603669684), ((1, 37), 0.20977216558712666), ((1, 38), 0.34713911196691194), ((1, 39), 0.5844497216867928), ((0, 0), 0.5605694682154404), ((0, 1), 0.79308586349256), ((0, 2), 0.1378097398922121), ((0, 3), 0.746746071779185), ((0, 4), 0.3375962654148572), ((0, 5), 0.12182368571994492), ((0, 6), 0.43235197616713866), ((0, 7), 0.4663408896855251), ((0, 8), 0.16487898953547062), ((0, 9), 0.11975435342014189), ((0, 10), 0.04393468707538588), ((0, 11), 0.627936163080299), ((0, 12), 0.40985126735289007), ((0, 13), 0.40132782889597957), ((0, 14), 0.3134637054824551), ((0, 15), 0.04638495622486761), ((0, 16), 0.2277317874795616), ((0, 17), 0.49497751205055324), ((0, 18), 0.9112035949151752), ((0, 19), 0.27068312345369605), ((0, 20), 0.71707609277172), ((0, 21), 0.13182805151441593), ((0, 22), 0.09790648261763359), ((0, 23), 0.4802516870524851), ((0, 24), 0.2819504083037461), ((0, 25), 0.8429879352751689), ((0, 26), 0.39424581069307507), ((0, 27), 0.5575760988095843), ((0, 28), 0.6460227780662539), ((0, 29), 0.333498342283468), ((0, 30), 0.5083566146766156), ((0, 31), 0.4100246051085316), ((0, 32), 0.3879277450130833), ((0, 33), 0.2956772562782274), ((0, 34), 0.41557305524100147), ((0, 35), 0.1197104446890862), ((0, 36), 0.6551803907343128), ((0, 37), 0.6204544473917168), ((0, 38), 0.0759752593729086), ((0, 39), 0.03243433298330476), ((1, 0), 0.5107929216554038), ((1, 1), 0.7226626998195212), ((1, 2), 0.12557273212935818), ((1, 3), 0.6804377144425425), ((1, 4), 0.3076189349023456), ((1, 5), 0.11100618189894912), ((1, 6), 0.39396068036482), ((1, 7), 0.4249315009755442), ((1, 8), 0.1502383300548334), ((1, 9), 0.1091205988423884), ((1, 10), 0.04003344535458616), ((1, 11), 0.5721776970371847), ((1, 12), 0.3734579533234492), ((1, 13), 0.3656913654537687), ((1, 14), 0.2856292592353178), ((1, 15), 0.04226613944277875), ((1, 16), 0.2075100262788246), ((1, 17), 0.4510252945792899), ((1, 18), 0.830292002793757), ((1, 19), 0.246647438562576), ((1, 20), 0.6534023225384421), ((1, 21), 0.12012219610096282), ((1, 22), 0.0892127401523856), ((1, 23), 0.4376070697186049), ((1, 24), 0.2569142291639308), ((1, 25), 0.7681336476462769), ((1, 26), 0.35923820491936714), ((1, 27), 0.5080653526544043), ((1, 28), 0.588658285858661), ((1, 29), 0.3038848925620355), ((1, 30), 0.4632163811563909), ((1, 31), 0.37361589931169437), ((1, 32), 0.3534811606797521), ((1, 33), 0.2694221825569796), ((1, 34), 0.37867166708806993), ((1, 35), 0.1090805890482526), ((1, 36), 0.5970027355572818), ((1, 37), 0.5653603307119512), ((1, 38), 0.06922893041634649), ((1, 39), 0.02955428121911071)]), (1, [((0, 0), 0.2724966936928322), ((0, 1), 0.3231087361900867), ((0, 2), 0.13830047278426605), ((0, 3), 0.3949568218026489), ((0, 4), 0.23204122977603003), ((0, 5), 0.057688724305830316), ((0, 6), 0.582803888688086), ((0, 7), 0.3843568547397753), ((0, 8), 0.3821381084561815), ((0, 9), 0.4727312656401607), ((0, 10), 0.5297527675479131), ((0, 11), 0.09609794916838288), ((0, 12), 0.17080288655262899), ((0, 13), 0.30513235795844773), ((0, 14), 0.5929155935360749), ((0, 15), 0.20943279584440377), ((0, 16), 0.4587308017587212), ((0, 17), 0.3819107682453037), ((0, 18), 0.06708376817131016), ((0, 19), 0.24850089022185592), ((0, 20), 0.5036521091935005), ((0, 21), 0.4679307630939981), ((0, 22), 0.16444860122235144), ((0, 23), 0.48245239570350973), ((0, 24), 0.14281870645993922), ((0, 25), 0.6223365766478984), ((0, 26), 0.6341191531656827), ((0, 27), 0.6002932763471499), ((0, 28), 0.1747364348196937), ((0, 29), 0.4102209357084882), ((0, 30), 0.14008043900830547), ((0, 31), 0.055250789653574675), ((0, 32), 0.6375186692924895), ((0, 33), 0.4594691120704606), ((0, 34), 0.057023905721048415), ((0, 35), 0.03183983556972048), ((0, 36), 0.12217361741459161), ((0, 37), 0.04945956896770785), ((0, 38), 0.43395969609343066), ((0, 39), 0.3946549935042306), ((1, 0), 0.20338180772175993), ((1, 1), 0.24115683007555566), ((1, 2), 0.10322253742771915), ((1, 3), 0.294781677170774), ((1, 4), 0.1731872931677726), ((1, 5), 0.043056805113781176), ((1, 6), 0.43498402429156574), ((1, 7), 0.28687024003066514), ((1, 8), 0.28521424698385806), ((1, 9), 0.3528297465541704), ((1, 10), 0.39538856068085176), ((1, 11), 0.07172407986076644), ((1, 12), 0.12748117916735707), ((1, 13), 0.2277399028773047), ((1, 14), 0.44253103993884946), ((1, 15), 0.15631316489686112), ((1, 16), 0.3423802999404801), ((1, 17), 0.285044568363433), ((1, 18), 0.05006893057883516), ((1, 19), 0.185472196337027), ((1, 20), 0.3759079607260049), ((1, 21), 0.34924682276680136), ((1, 22), 0.12273856735897865), ((1, 23), 0.36008525112044204), ((1, 24), 0.10659478580334013), ((1, 25), 0.46448981180189114), ((1, 26), 0.4732839064359647), ((1, 27), 0.44803747910543107), ((1, 28), 0.13041703921936276), ((1, 29), 0.3061742670674422), ((1, 30), 0.10455104069659509), ((1, 31), 0.04123721769066847), ((1, 32), 0.4758211839562146), ((1, 33), 0.3429313484094587), ((1, 34), 0.04256060824714183), ((1, 35), 0.023764117017261558), ((1, 36), 0.09118602809065912), ((1, 37), 0.03691485723907732), ((1, 38), 0.3238920306657251), ((1, 39), 0.2945564033000272)])]\n",
      "aa (0, [((0, 0), 0.32472945756484656), ((0, 1), 0.39061349772243725), ((0, 2), 0.07615572771532945), ((0, 3), 0.1629251780362513), ((0, 4), 0.3708106391514218), ((0, 5), 0.043291382412708045), ((0, 6), 0.2948744717790148), ((0, 7), 0.454550408805967), ((0, 8), 0.2759143471404575), ((0, 9), 0.3479441164957003), ((0, 10), 0.11460047862666807), ((0, 11), 0.2220118247688503), ((0, 12), 0.48094869079084135), ((0, 13), 0.47669230181825345), ((0, 14), 0.17741511924493564), ((0, 15), 0.3158729655192467), ((0, 16), 0.01654147778453637), ((0, 17), 0.47989558523863074), ((0, 18), 0.08442645069719935), ((0, 19), 0.3999486384790662), ((0, 20), 0.25788330908229723), ((0, 21), 0.03638964034276429), ((0, 22), 0.03350947903068666), ((0, 23), 0.002879893755389733), ((0, 24), 0.2260087536096375), ((0, 25), 0.21925618651184503), ((0, 26), 0.24883948326225588), ((0, 27), 0.23424842953958203), ((0, 28), 0.10510645521808473), ((0, 29), 0.17736719554266772), ((0, 30), 0.15582244227367725), ((0, 31), 0.20430352825363207), ((0, 32), 0.49640971311058285), ((0, 33), 0.43252650702250806), ((0, 34), 0.24656565156842034), ((0, 35), 0.4278886848773788), ((0, 36), 0.052227393782667046), ((0, 37), 0.11554985742987595), ((0, 38), 0.1912163836600637), ((0, 39), 0.3219353808300674), ((1, 0), 0.5895221600307944), ((1, 1), 0.7091297310732285), ((1, 2), 0.13825505526394288), ((1, 3), 0.2957785339205095), ((1, 4), 0.6731791152987477), ((1, 5), 0.07859228251740098), ((1, 6), 0.5353226554951225), ((1, 7), 0.8252024342099077), ((1, 8), 0.5009019604488674), ((1, 9), 0.6316666454123282), ((1, 10), 0.2080486390338179), ((1, 11), 0.40304594314168346), ((1, 12), 0.8731265502834161), ((1, 13), 0.8653993929141153), ((1, 14), 0.3220839436733558), ((1, 15), 0.5734438579261111), ((1, 16), 0.030029821706871015), ((1, 17), 0.8712147155378552), ((1, 18), 0.15326993723323454), ((1, 19), 0.7260769842861294), ((1, 20), 0.4681679529357936), ((1, 21), 0.06606268349808149), ((1, 22), 0.06083396501141921), ((1, 23), 0.005228232757410124), ((1, 24), 0.41030206995376894), ((1, 25), 0.39804328699303754), ((1, 26), 0.4517495603071902), ((1, 27), 0.4252605883111761), ((1, 28), 0.1908129461922059), ((1, 29), 0.3219969417589329), ((1, 30), 0.2828840458125298), ((1, 31), 0.3708978488776066), ((1, 32), 0.9011948855141311), ((1, 33), 0.785219679799344), ((1, 34), 0.4476215881122786), ((1, 35), 0.7768000588960288), ((1, 36), 0.09481494603669684), ((1, 37), 0.20977216558712666), ((1, 38), 0.34713911196691194), ((1, 39), 0.5844497216867928), ((0, 0), 0.5605694682154404), ((0, 1), 0.79308586349256), ((0, 2), 0.1378097398922121), ((0, 3), 0.746746071779185), ((0, 4), 0.3375962654148572), ((0, 5), 0.12182368571994492), ((0, 6), 0.43235197616713866), ((0, 7), 0.4663408896855251), ((0, 8), 0.16487898953547062), ((0, 9), 0.11975435342014189), ((0, 10), 0.04393468707538588), ((0, 11), 0.627936163080299), ((0, 12), 0.40985126735289007), ((0, 13), 0.40132782889597957), ((0, 14), 0.3134637054824551), ((0, 15), 0.04638495622486761), ((0, 16), 0.2277317874795616), ((0, 17), 0.49497751205055324), ((0, 18), 0.9112035949151752), ((0, 19), 0.27068312345369605), ((0, 20), 0.71707609277172), ((0, 21), 0.13182805151441593), ((0, 22), 0.09790648261763359), ((0, 23), 0.4802516870524851), ((0, 24), 0.2819504083037461), ((0, 25), 0.8429879352751689), ((0, 26), 0.39424581069307507), ((0, 27), 0.5575760988095843), ((0, 28), 0.6460227780662539), ((0, 29), 0.333498342283468), ((0, 30), 0.5083566146766156), ((0, 31), 0.4100246051085316), ((0, 32), 0.3879277450130833), ((0, 33), 0.2956772562782274), ((0, 34), 0.41557305524100147), ((0, 35), 0.1197104446890862), ((0, 36), 0.6551803907343128), ((0, 37), 0.6204544473917168), ((0, 38), 0.0759752593729086), ((0, 39), 0.03243433298330476), ((1, 0), 0.5107929216554038), ((1, 1), 0.7226626998195212), ((1, 2), 0.12557273212935818), ((1, 3), 0.6804377144425425), ((1, 4), 0.3076189349023456), ((1, 5), 0.11100618189894912), ((1, 6), 0.39396068036482), ((1, 7), 0.4249315009755442), ((1, 8), 0.1502383300548334), ((1, 9), 0.1091205988423884), ((1, 10), 0.04003344535458616), ((1, 11), 0.5721776970371847), ((1, 12), 0.3734579533234492), ((1, 13), 0.3656913654537687), ((1, 14), 0.2856292592353178), ((1, 15), 0.04226613944277875), ((1, 16), 0.2075100262788246), ((1, 17), 0.4510252945792899), ((1, 18), 0.830292002793757), ((1, 19), 0.246647438562576), ((1, 20), 0.6534023225384421), ((1, 21), 0.12012219610096282), ((1, 22), 0.0892127401523856), ((1, 23), 0.4376070697186049), ((1, 24), 0.2569142291639308), ((1, 25), 0.7681336476462769), ((1, 26), 0.35923820491936714), ((1, 27), 0.5080653526544043), ((1, 28), 0.588658285858661), ((1, 29), 0.3038848925620355), ((1, 30), 0.4632163811563909), ((1, 31), 0.37361589931169437), ((1, 32), 0.3534811606797521), ((1, 33), 0.2694221825569796), ((1, 34), 0.37867166708806993), ((1, 35), 0.1090805890482526), ((1, 36), 0.5970027355572818), ((1, 37), 0.5653603307119512), ((1, 38), 0.06922893041634649), ((1, 39), 0.02955428121911071)])\n",
      "aa (1, [((0, 0), 0.2724966936928322), ((0, 1), 0.3231087361900867), ((0, 2), 0.13830047278426605), ((0, 3), 0.3949568218026489), ((0, 4), 0.23204122977603003), ((0, 5), 0.057688724305830316), ((0, 6), 0.582803888688086), ((0, 7), 0.3843568547397753), ((0, 8), 0.3821381084561815), ((0, 9), 0.4727312656401607), ((0, 10), 0.5297527675479131), ((0, 11), 0.09609794916838288), ((0, 12), 0.17080288655262899), ((0, 13), 0.30513235795844773), ((0, 14), 0.5929155935360749), ((0, 15), 0.20943279584440377), ((0, 16), 0.4587308017587212), ((0, 17), 0.3819107682453037), ((0, 18), 0.06708376817131016), ((0, 19), 0.24850089022185592), ((0, 20), 0.5036521091935005), ((0, 21), 0.4679307630939981), ((0, 22), 0.16444860122235144), ((0, 23), 0.48245239570350973), ((0, 24), 0.14281870645993922), ((0, 25), 0.6223365766478984), ((0, 26), 0.6341191531656827), ((0, 27), 0.6002932763471499), ((0, 28), 0.1747364348196937), ((0, 29), 0.4102209357084882), ((0, 30), 0.14008043900830547), ((0, 31), 0.055250789653574675), ((0, 32), 0.6375186692924895), ((0, 33), 0.4594691120704606), ((0, 34), 0.057023905721048415), ((0, 35), 0.03183983556972048), ((0, 36), 0.12217361741459161), ((0, 37), 0.04945956896770785), ((0, 38), 0.43395969609343066), ((0, 39), 0.3946549935042306), ((1, 0), 0.20338180772175993), ((1, 1), 0.24115683007555566), ((1, 2), 0.10322253742771915), ((1, 3), 0.294781677170774), ((1, 4), 0.1731872931677726), ((1, 5), 0.043056805113781176), ((1, 6), 0.43498402429156574), ((1, 7), 0.28687024003066514), ((1, 8), 0.28521424698385806), ((1, 9), 0.3528297465541704), ((1, 10), 0.39538856068085176), ((1, 11), 0.07172407986076644), ((1, 12), 0.12748117916735707), ((1, 13), 0.2277399028773047), ((1, 14), 0.44253103993884946), ((1, 15), 0.15631316489686112), ((1, 16), 0.3423802999404801), ((1, 17), 0.285044568363433), ((1, 18), 0.05006893057883516), ((1, 19), 0.185472196337027), ((1, 20), 0.3759079607260049), ((1, 21), 0.34924682276680136), ((1, 22), 0.12273856735897865), ((1, 23), 0.36008525112044204), ((1, 24), 0.10659478580334013), ((1, 25), 0.46448981180189114), ((1, 26), 0.4732839064359647), ((1, 27), 0.44803747910543107), ((1, 28), 0.13041703921936276), ((1, 29), 0.3061742670674422), ((1, 30), 0.10455104069659509), ((1, 31), 0.04123721769066847), ((1, 32), 0.4758211839562146), ((1, 33), 0.3429313484094587), ((1, 34), 0.04256060824714183), ((1, 35), 0.023764117017261558), ((1, 36), 0.09118602809065912), ((1, 37), 0.03691485723907732), ((1, 38), 0.3238920306657251), ((1, 39), 0.2945564033000272)])\n",
      "240 key-value pairs were sent over a network.\n",
      "[(0, [((0, 1), 1.506808097405084), ((0, 2), 0.3522659403918076), ((0, 4), 0.9404481343423091), ((0, 5), 0.2228037924384833), ((0, 8), 0.8229314451321097), ((0, 9), 0.940429735556003), ((0, 11), 0.9460459370175321), ((0, 12), 1.0616028446963603), ((0, 15), 0.5716907175885181), ((0, 16), 0.7030040670228193), ((0, 18), 1.0627138137836847), ((0, 19), 0.9191326521546181), ((0, 22), 0.2958645628706717), ((0, 23), 0.9655839765113845), ((0, 25), 1.6845806984349125), ((0, 26), 1.2772044471210138), ((0, 29), 0.921086473534624), ((0, 32), 1.5218561274161555), ((0, 33), 1.187672875371196), ((0, 36), 0.8295814019315715), ((0, 39), 0.7490247073176028), ((1, 0), 1.3036968894079581), ((1, 1), 1.6729492609683052), ((1, 3), 1.2709979255338262), ((1, 4), 1.1539853433688658), ((1, 7), 1.537004175216117), ((1, 10), 0.6434706450692558), ((1, 11), 1.0469477200396344), ((1, 14), 1.0502442428475232), ((1, 17), 1.6072845784805783), ((1, 18), 1.0336308706058268), ((1, 21), 0.5354317023658457), ((1, 24), 0.7738110849210399), ((1, 25), 1.6306667464412057), ((1, 27), 1.3813634200710114), ((1, 28), 0.9098882712702296), ((1, 31), 0.7857509658799694), ((1, 32), 1.7304972301500978), ((1, 34), 0.8688538634474904), ((1, 35), 0.9096447649615429), ((1, 38), 0.7402600730489834), ((1, 39), 0.9085604062059307)]), (1, [((0, 0), 1.1577956194731192), ((0, 3), 1.3046280716180851), ((0, 6), 1.3100303366342394), ((0, 7), 1.3052481532312674), ((0, 10), 0.6882879332499671), ((0, 13), 1.1831524886726807), ((0, 14), 1.0837944182634658), ((0, 17), 1.3567838655344877), ((0, 20), 1.4786115110475178), ((0, 21), 0.6361484549511783), ((0, 24), 0.6507778683733229), ((0, 27), 1.392117804696316), ((0, 28), 0.9258656681040323), ((0, 30), 0.8042594959585984), ((0, 31), 0.6695789230157384), ((0, 34), 0.7191626125304702), ((0, 35), 0.5794389651361855), ((0, 37), 0.7854638737893006), ((0, 38), 0.7011513391264029), ((1, 2), 0.3670503248210202), ((1, 5), 0.23265526953013127), ((1, 6), 1.3642673601515083), ((1, 8), 0.9363545374875588), ((1, 9), 1.0936169908088869), ((1, 12), 1.3740656827742226), ((1, 13), 1.4588306612451887), ((1, 15), 0.772023162265751), ((1, 16), 0.5799201479261757), ((1, 19), 1.1581966191857325), ((1, 20), 1.4974782362002406), ((1, 22), 0.27278527252278345), ((1, 23), 0.8029205535964571), ((1, 26), 1.284271671662522), ((1, 29), 0.9320561013884107), ((1, 30), 0.8506514676655157), ((1, 33), 1.3975732107657823), ((1, 36), 0.7830037096846377), ((1, 37), 0.8120473535381552)])]\n",
      "[((0, 1), 1.506808097405084), ((0, 2), 0.3522659403918076), ((0, 4), 0.9404481343423091), ((0, 5), 0.2228037924384833), ((0, 8), 0.8229314451321097), ((0, 9), 0.940429735556003), ((0, 11), 0.9460459370175321), ((0, 12), 1.0616028446963603), ((0, 15), 0.5716907175885181), ((0, 16), 0.7030040670228193), ((0, 18), 1.0627138137836847), ((0, 19), 0.9191326521546181), ((0, 22), 0.2958645628706717), ((0, 23), 0.9655839765113845), ((0, 25), 1.6845806984349125), ((0, 26), 1.2772044471210138), ((0, 29), 0.921086473534624), ((0, 32), 1.5218561274161555), ((0, 33), 1.187672875371196), ((0, 36), 0.8295814019315715), ((0, 39), 0.7490247073176028), ((1, 0), 1.3036968894079581), ((1, 1), 1.6729492609683052), ((1, 3), 1.2709979255338262), ((1, 4), 1.1539853433688658), ((1, 7), 1.537004175216117), ((1, 10), 0.6434706450692558), ((1, 11), 1.0469477200396344), ((1, 14), 1.0502442428475232), ((1, 17), 1.6072845784805783), ((1, 18), 1.0336308706058268), ((1, 21), 0.5354317023658457), ((1, 24), 0.7738110849210399), ((1, 25), 1.6306667464412057), ((1, 27), 1.3813634200710114), ((1, 28), 0.9098882712702296), ((1, 31), 0.7857509658799694), ((1, 32), 1.7304972301500978), ((1, 34), 0.8688538634474904), ((1, 35), 0.9096447649615429), ((1, 38), 0.7402600730489834), ((1, 39), 0.9085604062059307), ((0, 0), 1.1577956194731192), ((0, 3), 1.3046280716180851), ((0, 6), 1.3100303366342394), ((0, 7), 1.3052481532312674), ((0, 10), 0.6882879332499671), ((0, 13), 1.1831524886726807), ((0, 14), 1.0837944182634658), ((0, 17), 1.3567838655344877), ((0, 20), 1.4786115110475178), ((0, 21), 0.6361484549511783), ((0, 24), 0.6507778683733229), ((0, 27), 1.392117804696316), ((0, 28), 0.9258656681040323), ((0, 30), 0.8042594959585984), ((0, 31), 0.6695789230157384), ((0, 34), 0.7191626125304702), ((0, 35), 0.5794389651361855), ((0, 37), 0.7854638737893006), ((0, 38), 0.7011513391264029), ((1, 2), 0.3670503248210202), ((1, 5), 0.23265526953013127), ((1, 6), 1.3642673601515083), ((1, 8), 0.9363545374875588), ((1, 9), 1.0936169908088869), ((1, 12), 1.3740656827742226), ((1, 13), 1.4588306612451887), ((1, 15), 0.772023162265751), ((1, 16), 0.5799201479261757), ((1, 19), 1.1581966191857325), ((1, 20), 1.4974782362002406), ((1, 22), 0.27278527252278345), ((1, 23), 0.8029205535964571), ((1, 26), 1.284271671662522), ((1, 29), 0.9320561013884107), ((1, 30), 0.8506514676655157), ((1, 33), 1.3975732107657823), ((1, 36), 0.7830037096846377), ((1, 37), 0.8120473535381552)]\n"
     ]
    },
    {
     "data": {
      "text/plain": [
       "True"
      ]
     },
     "execution_count": 110,
     "metadata": {},
     "output_type": "execute_result"
    }
   ],
   "source": [
    "# Определение размеров матриц\n",
    "I = 2\n",
    "J = 3\n",
    "K = 4*10\n",
    "\n",
    "# Генерация случайных матриц\n",
    "small_mat = np.random.rand(I, J)\n",
    "big_mat = np.random.rand(J, K)\n",
    "\n",
    "# Получение эталонного решения через умножение матриц\n",
    "reference_solution = np.matmul(small_mat, big_mat)\n",
    "\n",
    "# Функция для \"разглаживания\" вложенных итерируемых объектов\n",
    "def flatten(nested_iterable):\n",
    "  for iterable in nested_iterable:\n",
    "    for element in iterable:\n",
    "      yield element\n",
    "\n",
    "# Функция для группировки элементов по ключу\n",
    "def groupbykey(iterable):\n",
    "  t = {}\n",
    "  for (k2, v2) in iterable:\n",
    "    t[k2] = t.get(k2, []) + [v2]\n",
    "  return t.items()\n",
    "\n",
    "# Функция для распределенной группировки элементов по ключу\n",
    "def groupbykey_distributed(map_partitions, PARTITIONER):\n",
    "  global reducers\n",
    "  partitions = [dict() for _ in range(reducers)]\n",
    "  for map_partition in map_partitions:\n",
    "    for (k2, v2) in map_partition:\n",
    "      p = partitions[PARTITIONER(k2)]\n",
    "      p[k2] = p.get(k2, []) + [v2]\n",
    "  return [(partition_id, sorted(partition.items(), key=lambda x: x[0])) for (partition_id, partition) in enumerate(partitions)]\n",
    "\n",
    "# Функция для определения разделителя (по ключу)\n",
    "def PARTITIONER(obj):\n",
    "  global reducers\n",
    "  return hash(obj) % reducers\n",
    "\n",
    "# Функция для выполнения MapReduce на распределенных данных\n",
    "def MapReduceDistributed(INPUTFORMAT, MAP, REDUCE, PARTITIONER=PARTITIONER, COMBINER=None):\n",
    "  # Разделение данных на части и применение MAP функции\n",
    "  map_partitions = map(lambda record_reader: flatten(map(lambda k1v1: MAP(*k1v1), record_reader)), INPUTFORMAT())\n",
    "\n",
    "  # Применение COMBINER (если есть)\n",
    "  if COMBINER != None:\n",
    "    map_partitions = map(lambda map_partition: flatten(map(lambda k2v2: COMBINER(*k2v2), groupbykey(map_partition))), map_partitions)\n",
    "\n",
    "  # Распределенная группировка данных по ключу (shuffle)\n",
    "  reduce_partitions = groupbykey_distributed(map_partitions, PARTITIONER)\n",
    "\n",
    "  # Применение REDUCE функции\n",
    "  reduce_outputs = map(lambda reduce_partition: (reduce_partition[0], flatten(map(lambda reduce_input_group: REDUCE(*reduce_input_group), reduce_partition[1]))), reduce_partitions)\n",
    "\n",
    "  print(\"{} key-value pairs were sent over a network.\".format(sum([len(vs) for (k,vs) in flatten([partition for (partition_id, partition) in reduce_partitions])])))\n",
    "  return reduce_outputs\n",
    "\n",
    "# Преобразование результата REDUCE в матрицу\n",
    "def asmatrix(reduce_output):\n",
    "  reduce_output = list(reduce_output)\n",
    "  I = max(i for ((i,k), vw) in reduce_output) + 1\n",
    "  K = max(k for ((i,k), vw) in reduce_output) + 1\n",
    "  mat = np.empty(shape=(I,K))\n",
    "  for ((i,k), vw) in reduce_output:\n",
    "    mat[i,k] = vw\n",
    "  return mat\n",
    "\n",
    "# Генератор для вводных данных\n",
    "def INPUTFORMAT():\n",
    "  first_mat = []\n",
    "  for i in range(small_mat.shape[0]):\n",
    "    for j in range(small_mat.shape[1]):\n",
    "      first_mat.append(((0, i, j), small_mat[i,j])) # первая матрица\n",
    "  yield first_mat\n",
    "\n",
    "  second_mat = []\n",
    "  for j in range(big_mat.shape[0]):\n",
    "    for k in range(big_mat.shape[1]):\n",
    "      second_mat.append(((1, j, k), big_mat[j,k])) # вторая матрица\n",
    "  yield second_mat\n",
    "\n",
    "# MAP функция для соединения матриц\n",
    "def MAP_JOIN(k1, v1):\n",
    "  (mat_num, i, j) = k1\n",
    "  w = v1\n",
    "  if mat_num == 0:\n",
    "    yield (j, (mat_num, i, w))\n",
    "  else:\n",
    "    yield (i, (mat_num, j, w))\n",
    "\n",
    "# REDUCE функция для соединения матриц\n",
    "def REDUCE_JOIN(key, values):\n",
    "  from_first_mat = [v for v in values if v[0] == 0]\n",
    "  from_second_mat = [v for v in values if v[0] == 1]\n",
    "  for f in from_first_mat:\n",
    "    for s in from_second_mat:\n",
    "      yield ((f[1], s[1]), f[2] * s[2])\n",
    "\n",
    "# Генератор для получения соединенных данных\n",
    "def GET_JOINED():\n",
    "  for j in joined:\n",
    "    print(\"aa\", j)\n",
    "    yield j[1]\n",
    "\n",
    "# MAP функция для умножения значений\n",
    "def MAP_MUL(k1, v1):\n",
    "  yield (k1, v1)\n",
    "\n",
    "# REDUCE функция для умножения значений\n",
    "def REDUCE_MUL(key, values):\n",
    "  res_val = 0\n",
    "  for v in values:\n",
    "    res_val += v\n",
    "  yield (key, res_val)\n",
    "\n",
    "maps = 4\n",
    "reducers = 2\n",
    "\n",
    "# Выполнение MapReduce для соединения матриц\n",
    "partitioned_output = MapReduceDistributed(INPUTFORMAT, MAP_JOIN, REDUCE_JOIN, COMBINER=None)\n",
    "joined = [(partition_id, list(partition)) for (partition_id, partition) in partitioned_output]\n",
    "print(joined)\n",
    "\n",
    "# Выполнение MapReduce для умножения значений\n",
    "mul_output = MapReduceDistributed(GET_JOINED, MAP_MUL, REDUCE_MUL, COMBINER=None)\n",
    "pre_result = [(partition_id, list(partition)) for (partition_id, partition) in mul_output]\n",
    "print(pre_result)\n",
    "\n",
    "solution = []\n",
    "for p in pre_result:\n",
    "  for v in p[1]:\n",
    "    solution.append(v)\n",
    "\n",
    "print(solution)\n",
    "\n",
    "# Проверка результата на соответствие эталонному решению\n",
    "np.allclose(reference_solution, asmatrix(solution))"
   ]
  },
  {
   "cell_type": "markdown",
   "metadata": {
    "id": "ZuSA2P9Db6UM"
   },
   "source": [
    "Обобщите предыдущее решение на случай, когда каждая матрица генерируется несколькими RECORDREADER-ами, и проверьте его работоспособность. Будет ли работать решение, если RECORDREADER-ы будут генерировать случайное подмножество элементов матрицы?"
   ]
  },
  {
   "cell_type": "code",
   "execution_count": 112,
   "metadata": {
    "id": "ehN0FqRDcwU5"
   },
   "outputs": [
    {
     "name": "stdout",
     "output_type": "stream",
     "text": [
      "126 key-value pairs were sent over a network.\n",
      "[(0, [((0, 0), 0.6865604225085846), ((0, 1), 0.4988502323948747), ((0, 2), 0.9051808574381399), ((0, 3), 0.11548222467679138), ((0, 4), 0.4285204028690292), ((0, 5), 0.6458516068629642), ((0, 6), 0.6959052660213096), ((0, 7), 0.8888632257325753), ((0, 8), 0.622940582746046), ((0, 9), 0.43731335010344835), ((0, 10), 0.7139779366512209), ((0, 11), 0.06218031446509917), ((0, 12), 0.25576192343846854), ((0, 13), 0.9214804792471838), ((0, 14), 0.40958310847029983), ((0, 15), 0.8451289201217963), ((0, 16), 0.5107325823797799), ((0, 17), 0.08750643607871707), ((0, 18), 0.7756328383736067), ((0, 19), 0.5300475012477469), ((0, 20), 0.41440786644603445), ((0, 21), 0.8031992814803026), ((0, 22), 0.7365733144313312), ((0, 23), 0.9360955408272155), ((0, 24), 0.08942090266342465), ((0, 25), 0.4129056300769295), ((0, 26), 0.8523873212481062), ((0, 27), 0.6008273655245934), ((0, 28), 0.9136075212812913), ((0, 29), 0.14184038287369508), ((0, 30), 0.3129703025771816), ((0, 31), 0.657457881607378), ((0, 32), 0.1976142424681632), ((0, 33), 0.5254554815669314), ((0, 34), 0.7456707202614449), ((0, 35), 0.010271058796217042), ((0, 36), 0.31468121494325735), ((0, 37), 0.5711153126668301), ((0, 38), 0.21551847739419044), ((0, 39), 0.618416739250001), ((1, 0), 0.44432931653576435), ((1, 1), 0.3228467233864626), ((1, 2), 0.5858164533533345), ((1, 3), 0.07473797830521858), ((1, 4), 0.27733054729941903), ((1, 5), 0.4179833174950568), ((1, 6), 0.45037712790824536), ((1, 7), 0.5752559813169127), ((1, 8), 0.4031557227877936), ((1, 9), 0.2830211815202631), ((1, 10), 0.462073428955753), ((1, 11), 0.04024195937089711), ((1, 12), 0.165524427146638), ((1, 13), 0.5963652697149612), ((1, 14), 0.2650746776026499), ((1, 15), 0.5469519406467549), ((1, 16), 0.3305367624195029), ((1, 17), 0.056632560894304594), ((1, 18), 0.5019753508336412), ((1, 19), 0.3430370237485635), ((1, 20), 0.2681971724968001), ((1, 21), 0.5198158473483774), ((1, 22), 0.4766967431415897), ((1, 23), 0.6058238695848108), ((1, 24), 0.05787156856387797), ((1, 25), 0.26722495266402746), ((1, 26), 0.5516494447641808), ((1, 27), 0.3888444540745259), ((1, 28), 0.5912700356795969), ((1, 29), 0.09179649498169556), ((1, 30), 0.2025486411407172), ((1, 31), 0.4254946856946229), ((1, 32), 0.12789231423038205), ((1, 33), 0.3400651528113482), ((1, 34), 0.4825844173829524), ((1, 35), 0.006647240920684887), ((1, 36), 0.20365591225240368), ((1, 37), 0.3696153582712365), ((1, 38), 0.13947960677880736), ((1, 39), 0.4002279742272693), ((0, 0), 0.03774333326763104), ((0, 1), 0.001357428348658981), ((0, 2), 0.04710192488846483), ((0, 3), 0.01743703806534308), ((0, 4), 0.030304431504634757), ((0, 5), 0.038534575140283064), ((0, 6), 0.01610527187165512), ((0, 7), 0.010475118918820433), ((0, 8), 0.018597376257714068), ((0, 9), 0.030487501504599317), ((0, 10), 0.03595177937025433), ((0, 11), 0.024621741551078928), ((0, 12), 0.021301230325168313), ((0, 13), 0.010478374039484959), ((0, 14), 0.002249811419068031), ((0, 15), 0.0016711723056698003), ((0, 16), 0.035050723930782346), ((0, 17), 0.0489217935599178), ((0, 18), 0.023703967456156477), ((0, 19), 0.03835412862253411), ((0, 20), 0.032254385131249425), ((0, 21), 0.013491658122753124), ((0, 22), 0.007303835343591009), ((0, 23), 0.014330118798878237), ((0, 24), 0.017791524751561004), ((0, 25), 0.0041768043048279755), ((0, 26), 0.007253418700720035), ((0, 27), 0.050278629638128985), ((0, 28), 0.04093682516708709), ((0, 29), 0.023649258543921928), ((0, 30), 0.023116693872349176), ((0, 31), 0.005488640710847391), ((0, 32), 0.045214603552881524), ((0, 33), 0.027130793763838215), ((0, 34), 0.01586571911380357), ((0, 35), 0.004484016059761785), ((0, 36), 0.04735131137714221), ((0, 37), 0.04567327791311292), ((0, 38), 0.03390484626327053), ((0, 39), 0.00904028723055731), ((1, 0), 0.010858886617439868), ((1, 1), 0.00039053679824372527), ((1, 2), 0.013551385570538704), ((1, 3), 0.005016695742077681), ((1, 4), 0.008718689029964834), ((1, 5), 0.01108652962186597), ((1, 6), 0.004633542033960458), ((1, 7), 0.003013727691645656), ((1, 8), 0.005350529025415365), ((1, 9), 0.008771358897741848), ((1, 10), 0.010343450407746903), ((1, 11), 0.0070837596120946755), ((1, 12), 0.006128437127500491), ((1, 13), 0.0030146642010411436), ((1, 14), 0.0006472784726523604), ((1, 15), 0.0004808020122864184), ((1, 16), 0.010084213662972031), ((1, 17), 0.01407496803798565), ((1, 18), 0.006819712852723443), ((1, 19), 0.011034614538933212), ((1, 20), 0.009279697385812238), ((1, 21), 0.003881596381469599), ((1, 22), 0.002101338514701956), ((1, 23), 0.004122824397836476), ((1, 24), 0.0051186827792515715), ((1, 25), 0.0012016809444930212), ((1, 26), 0.0020868334733828474), ((1, 27), 0.014465334437987283), ((1, 28), 0.011777665205542097), ((1, 29), 0.006803972910765854), ((1, 30), 0.0066507522255641535), ((1, 31), 0.0015791007842455248), ((1, 32), 0.013008396739943013), ((1, 33), 0.0078056225515016646), ((1, 34), 0.0045646218827390525), ((1, 35), 0.0012900668215621227), ((1, 36), 0.013623134919894437), ((1, 37), 0.013140358928782094), ((1, 38), 0.009754540722303636), ((1, 39), 0.002600921686741972)]), (1, [((0, 0), 0.5560461441598435), ((0, 1), 0.34991174090423915), ((0, 2), 0.5132251665014209), ((0, 3), 0.6168014344327419), ((0, 4), 0.008211601401278832), ((0, 5), 0.5936532247956767), ((0, 6), 0.10132968091415297), ((0, 7), 0.35786905110101785), ((0, 8), 0.4013776405890756), ((0, 9), 0.23858729606036658), ((0, 10), 0.44426291561062264), ((0, 11), 0.2880381315702483), ((0, 12), 0.42192690712362063), ((0, 13), 0.3928015844345882), ((0, 14), 0.11804397866991181), ((0, 15), 0.5767680718436512), ((0, 16), 0.5361823816083093), ((0, 17), 0.19079730765362932), ((0, 18), 0.2652761870912254), ((0, 19), 0.07144855455646384), ((0, 20), 0.6096436287250583), ((0, 21), 0.23541735045309226), ((0, 22), 0.020460195417823058), ((0, 23), 0.1507049313841024), ((0, 24), 0.5848286728046148), ((0, 25), 0.5680294651258468), ((0, 26), 0.051398587508076216), ((0, 27), 0.1995502647701134), ((0, 28), 0.10326678432519201), ((0, 29), 0.12039811905855408), ((0, 30), 0.28526597806515736), ((0, 31), 0.5599440603732224), ((0, 32), 0.3820239709085288), ((0, 33), 0.08960210133323196), ((0, 34), 0.38910636387793396), ((0, 35), 0.019883826049629922), ((0, 36), 0.2644328345769561), ((0, 37), 0.6256261647696721), ((0, 38), 0.3056241140533877), ((0, 39), 0.38372909885029816), ((1, 0), 0.37468509583606), ((1, 1), 0.23578387432748554), ((1, 2), 0.3458306881825692), ((1, 3), 0.41562432722457), ((1, 4), 0.005533290160036112), ((1, 5), 0.4000261808523801), ((1, 6), 0.06827980303994825), ((1, 7), 0.24114581337695445), ((1, 8), 0.2704635601021947), ((1, 9), 0.16076921821788043), ((1, 10), 0.2993612937708325), ((1, 11), 0.19409107691036154), ((1, 12), 0.28431043950550444), ((1, 13), 0.2646846864315667), ((1, 14), 0.0795425342399126), ((1, 15), 0.3886483209058907), ((1, 16), 0.361300135157065), ((1, 17), 0.12856650163715874), ((1, 18), 0.17875321073124437), ((1, 19), 0.04814476063274524), ((1, 20), 0.4108011247876362), ((1, 21), 0.15863318798705978), ((1, 22), 0.013786859888282595), ((1, 23), 0.10155072965021233), ((1, 24), 0.39407986121109), ((1, 25), 0.3827599144671025), ((1, 26), 0.03463432826316943), ((1, 27), 0.13446457792180608), ((1, 28), 0.06958509718654497), ((1, 29), 0.0811288438050346), ((1, 30), 0.1922230941671367), ((1, 31), 0.37731166042123043), ((1, 32), 0.2574223194512199), ((1, 33), 0.06037731270644951), ((1, 34), 0.26219470590936134), ((1, 35), 0.013398480229100328), ((1, 36), 0.1781849276472747), ((1, 37), 0.4215707670421071), ((1, 38), 0.20594118251989196), ((1, 39), 0.2585712996806214)])]\n",
      "aa (0, [((0, 0), 0.6865604225085846), ((0, 1), 0.4988502323948747), ((0, 2), 0.9051808574381399), ((0, 3), 0.11548222467679138), ((0, 4), 0.4285204028690292), ((0, 5), 0.6458516068629642), ((0, 6), 0.6959052660213096), ((0, 7), 0.8888632257325753), ((0, 8), 0.622940582746046), ((0, 9), 0.43731335010344835), ((0, 10), 0.7139779366512209), ((0, 11), 0.06218031446509917), ((0, 12), 0.25576192343846854), ((0, 13), 0.9214804792471838), ((0, 14), 0.40958310847029983), ((0, 15), 0.8451289201217963), ((0, 16), 0.5107325823797799), ((0, 17), 0.08750643607871707), ((0, 18), 0.7756328383736067), ((0, 19), 0.5300475012477469), ((0, 20), 0.41440786644603445), ((0, 21), 0.8031992814803026), ((0, 22), 0.7365733144313312), ((0, 23), 0.9360955408272155), ((0, 24), 0.08942090266342465), ((0, 25), 0.4129056300769295), ((0, 26), 0.8523873212481062), ((0, 27), 0.6008273655245934), ((0, 28), 0.9136075212812913), ((0, 29), 0.14184038287369508), ((0, 30), 0.3129703025771816), ((0, 31), 0.657457881607378), ((0, 32), 0.1976142424681632), ((0, 33), 0.5254554815669314), ((0, 34), 0.7456707202614449), ((0, 35), 0.010271058796217042), ((0, 36), 0.31468121494325735), ((0, 37), 0.5711153126668301), ((0, 38), 0.21551847739419044), ((0, 39), 0.618416739250001), ((1, 0), 0.44432931653576435), ((1, 1), 0.3228467233864626), ((1, 2), 0.5858164533533345), ((1, 3), 0.07473797830521858), ((1, 4), 0.27733054729941903), ((1, 5), 0.4179833174950568), ((1, 6), 0.45037712790824536), ((1, 7), 0.5752559813169127), ((1, 8), 0.4031557227877936), ((1, 9), 0.2830211815202631), ((1, 10), 0.462073428955753), ((1, 11), 0.04024195937089711), ((1, 12), 0.165524427146638), ((1, 13), 0.5963652697149612), ((1, 14), 0.2650746776026499), ((1, 15), 0.5469519406467549), ((1, 16), 0.3305367624195029), ((1, 17), 0.056632560894304594), ((1, 18), 0.5019753508336412), ((1, 19), 0.3430370237485635), ((1, 20), 0.2681971724968001), ((1, 21), 0.5198158473483774), ((1, 22), 0.4766967431415897), ((1, 23), 0.6058238695848108), ((1, 24), 0.05787156856387797), ((1, 25), 0.26722495266402746), ((1, 26), 0.5516494447641808), ((1, 27), 0.3888444540745259), ((1, 28), 0.5912700356795969), ((1, 29), 0.09179649498169556), ((1, 30), 0.2025486411407172), ((1, 31), 0.4254946856946229), ((1, 32), 0.12789231423038205), ((1, 33), 0.3400651528113482), ((1, 34), 0.4825844173829524), ((1, 35), 0.006647240920684887), ((1, 36), 0.20365591225240368), ((1, 37), 0.3696153582712365), ((1, 38), 0.13947960677880736), ((1, 39), 0.4002279742272693), ((0, 0), 0.03774333326763104), ((0, 1), 0.001357428348658981), ((0, 2), 0.04710192488846483), ((0, 3), 0.01743703806534308), ((0, 4), 0.030304431504634757), ((0, 5), 0.038534575140283064), ((0, 6), 0.01610527187165512), ((0, 7), 0.010475118918820433), ((0, 8), 0.018597376257714068), ((0, 9), 0.030487501504599317), ((0, 10), 0.03595177937025433), ((0, 11), 0.024621741551078928), ((0, 12), 0.021301230325168313), ((0, 13), 0.010478374039484959), ((0, 14), 0.002249811419068031), ((0, 15), 0.0016711723056698003), ((0, 16), 0.035050723930782346), ((0, 17), 0.0489217935599178), ((0, 18), 0.023703967456156477), ((0, 19), 0.03835412862253411), ((0, 20), 0.032254385131249425), ((0, 21), 0.013491658122753124), ((0, 22), 0.007303835343591009), ((0, 23), 0.014330118798878237), ((0, 24), 0.017791524751561004), ((0, 25), 0.0041768043048279755), ((0, 26), 0.007253418700720035), ((0, 27), 0.050278629638128985), ((0, 28), 0.04093682516708709), ((0, 29), 0.023649258543921928), ((0, 30), 0.023116693872349176), ((0, 31), 0.005488640710847391), ((0, 32), 0.045214603552881524), ((0, 33), 0.027130793763838215), ((0, 34), 0.01586571911380357), ((0, 35), 0.004484016059761785), ((0, 36), 0.04735131137714221), ((0, 37), 0.04567327791311292), ((0, 38), 0.03390484626327053), ((0, 39), 0.00904028723055731), ((1, 0), 0.010858886617439868), ((1, 1), 0.00039053679824372527), ((1, 2), 0.013551385570538704), ((1, 3), 0.005016695742077681), ((1, 4), 0.008718689029964834), ((1, 5), 0.01108652962186597), ((1, 6), 0.004633542033960458), ((1, 7), 0.003013727691645656), ((1, 8), 0.005350529025415365), ((1, 9), 0.008771358897741848), ((1, 10), 0.010343450407746903), ((1, 11), 0.0070837596120946755), ((1, 12), 0.006128437127500491), ((1, 13), 0.0030146642010411436), ((1, 14), 0.0006472784726523604), ((1, 15), 0.0004808020122864184), ((1, 16), 0.010084213662972031), ((1, 17), 0.01407496803798565), ((1, 18), 0.006819712852723443), ((1, 19), 0.011034614538933212), ((1, 20), 0.009279697385812238), ((1, 21), 0.003881596381469599), ((1, 22), 0.002101338514701956), ((1, 23), 0.004122824397836476), ((1, 24), 0.0051186827792515715), ((1, 25), 0.0012016809444930212), ((1, 26), 0.0020868334733828474), ((1, 27), 0.014465334437987283), ((1, 28), 0.011777665205542097), ((1, 29), 0.006803972910765854), ((1, 30), 0.0066507522255641535), ((1, 31), 0.0015791007842455248), ((1, 32), 0.013008396739943013), ((1, 33), 0.0078056225515016646), ((1, 34), 0.0045646218827390525), ((1, 35), 0.0012900668215621227), ((1, 36), 0.013623134919894437), ((1, 37), 0.013140358928782094), ((1, 38), 0.009754540722303636), ((1, 39), 0.002600921686741972)])\n",
      "aa (1, [((0, 0), 0.5560461441598435), ((0, 1), 0.34991174090423915), ((0, 2), 0.5132251665014209), ((0, 3), 0.6168014344327419), ((0, 4), 0.008211601401278832), ((0, 5), 0.5936532247956767), ((0, 6), 0.10132968091415297), ((0, 7), 0.35786905110101785), ((0, 8), 0.4013776405890756), ((0, 9), 0.23858729606036658), ((0, 10), 0.44426291561062264), ((0, 11), 0.2880381315702483), ((0, 12), 0.42192690712362063), ((0, 13), 0.3928015844345882), ((0, 14), 0.11804397866991181), ((0, 15), 0.5767680718436512), ((0, 16), 0.5361823816083093), ((0, 17), 0.19079730765362932), ((0, 18), 0.2652761870912254), ((0, 19), 0.07144855455646384), ((0, 20), 0.6096436287250583), ((0, 21), 0.23541735045309226), ((0, 22), 0.020460195417823058), ((0, 23), 0.1507049313841024), ((0, 24), 0.5848286728046148), ((0, 25), 0.5680294651258468), ((0, 26), 0.051398587508076216), ((0, 27), 0.1995502647701134), ((0, 28), 0.10326678432519201), ((0, 29), 0.12039811905855408), ((0, 30), 0.28526597806515736), ((0, 31), 0.5599440603732224), ((0, 32), 0.3820239709085288), ((0, 33), 0.08960210133323196), ((0, 34), 0.38910636387793396), ((0, 35), 0.019883826049629922), ((0, 36), 0.2644328345769561), ((0, 37), 0.6256261647696721), ((0, 38), 0.3056241140533877), ((0, 39), 0.38372909885029816), ((1, 0), 0.37468509583606), ((1, 1), 0.23578387432748554), ((1, 2), 0.3458306881825692), ((1, 3), 0.41562432722457), ((1, 4), 0.005533290160036112), ((1, 5), 0.4000261808523801), ((1, 6), 0.06827980303994825), ((1, 7), 0.24114581337695445), ((1, 8), 0.2704635601021947), ((1, 9), 0.16076921821788043), ((1, 10), 0.2993612937708325), ((1, 11), 0.19409107691036154), ((1, 12), 0.28431043950550444), ((1, 13), 0.2646846864315667), ((1, 14), 0.0795425342399126), ((1, 15), 0.3886483209058907), ((1, 16), 0.361300135157065), ((1, 17), 0.12856650163715874), ((1, 18), 0.17875321073124437), ((1, 19), 0.04814476063274524), ((1, 20), 0.4108011247876362), ((1, 21), 0.15863318798705978), ((1, 22), 0.013786859888282595), ((1, 23), 0.10155072965021233), ((1, 24), 0.39407986121109), ((1, 25), 0.3827599144671025), ((1, 26), 0.03463432826316943), ((1, 27), 0.13446457792180608), ((1, 28), 0.06958509718654497), ((1, 29), 0.0811288438050346), ((1, 30), 0.1922230941671367), ((1, 31), 0.37731166042123043), ((1, 32), 0.2574223194512199), ((1, 33), 0.06037731270644951), ((1, 34), 0.26219470590936134), ((1, 35), 0.013398480229100328), ((1, 36), 0.1781849276472747), ((1, 37), 0.4215707670421071), ((1, 38), 0.20594118251989196), ((1, 39), 0.2585712996806214)])\n",
      "240 key-value pairs were sent over a network.\n",
      "[(0, [((0, 1), 0.8501194016477728), ((0, 2), 1.4655079488280256), ((0, 4), 0.4670364357749428), ((0, 5), 1.278039406798924), ((0, 8), 1.0429155995928356), ((0, 9), 0.7063881476684143), ((0, 11), 0.37484018758642645), ((0, 12), 0.6989900608872575), ((0, 15), 1.4235681642711173), ((0, 16), 1.0819656879188715), ((0, 18), 1.0646129929209887), ((0, 19), 0.6398501844267448), ((0, 22), 0.7643373451927453), ((0, 23), 1.101130591010196), ((0, 25), 0.9851118995076042), ((0, 26), 0.9110393274569025), ((0, 29), 0.2858877604761711), ((0, 32), 0.6248528169295735), ((0, 33), 0.6421883766640016), ((0, 36), 0.6264653608973556), ((0, 39), 1.0111861253308563), ((1, 0), 0.8298732989892643), ((1, 1), 0.5590211345121918), ((1, 3), 0.49537900127186624), ((1, 4), 0.29158252648941996), ((1, 7), 0.8194155223855129), ((1, 10), 0.7717781731343324), ((1, 11), 0.24141679589335333), ((1, 14), 0.34526449031521483), ((1, 17), 0.19927403056944898), ((1, 18), 0.687548274417609), ((1, 21), 0.6823306317169067), ((1, 24), 0.45707011255421953), ((1, 25), 0.6511865480756229), ((1, 27), 0.5377743664343193), ((1, 28), 0.672632798071684), ((1, 31), 0.8043854469000988), ((1, 32), 0.39832303042154493), ((1, 34), 0.7493437451750528), ((1, 35), 0.021335787971347338), ((1, 38), 0.355175330021003), ((1, 39), 0.6614001955946327)]), (1, [((0, 0), 1.2803498999360592), ((0, 3), 0.7497206971748764), ((0, 6), 0.8133402188071177), ((0, 7), 1.2572073957524137), ((0, 10), 1.1941926316320979), ((0, 13), 1.324760437721257), ((0, 14), 0.5298768985592797), ((0, 17), 0.3272255372922642), ((0, 20), 1.0563058803023422), ((0, 21), 1.052108290056148), ((0, 24), 0.6920411002196005), ((0, 27), 0.8506562599328358), ((0, 28), 1.0578111307735705), ((0, 30), 0.6213529745146882), ((0, 31), 1.2228905826914478), ((0, 34), 1.1506428032531824), ((0, 35), 0.03463890090560875), ((0, 37), 1.2424147553496152), ((0, 38), 0.5550474377108486), ((1, 2), 0.9451985271064425), ((1, 5), 0.8290960279693029), ((1, 6), 0.523290472982154), ((1, 8), 0.6789698119154037), ((1, 9), 0.4525617586358854), ((1, 12), 0.45596330377964295), ((1, 13), 0.864064620347569), ((1, 15), 0.9360810635649319), ((1, 16), 0.7019211112395399), ((1, 19), 0.40221639892024197), ((1, 20), 0.6882779946702485), ((1, 22), 0.4925849415445743), ((1, 23), 0.7114974236328597), ((1, 26), 0.5883706065007331), ((1, 29), 0.179729311697496), ((1, 30), 0.401422487533418), ((1, 33), 0.4082480880692994), ((1, 36), 0.39546397481957285), ((1, 37), 0.8043264842421256)])]\n",
      "[((0, 1), 0.8501194016477728), ((0, 2), 1.4655079488280256), ((0, 4), 0.4670364357749428), ((0, 5), 1.278039406798924), ((0, 8), 1.0429155995928356), ((0, 9), 0.7063881476684143), ((0, 11), 0.37484018758642645), ((0, 12), 0.6989900608872575), ((0, 15), 1.4235681642711173), ((0, 16), 1.0819656879188715), ((0, 18), 1.0646129929209887), ((0, 19), 0.6398501844267448), ((0, 22), 0.7643373451927453), ((0, 23), 1.101130591010196), ((0, 25), 0.9851118995076042), ((0, 26), 0.9110393274569025), ((0, 29), 0.2858877604761711), ((0, 32), 0.6248528169295735), ((0, 33), 0.6421883766640016), ((0, 36), 0.6264653608973556), ((0, 39), 1.0111861253308563), ((1, 0), 0.8298732989892643), ((1, 1), 0.5590211345121918), ((1, 3), 0.49537900127186624), ((1, 4), 0.29158252648941996), ((1, 7), 0.8194155223855129), ((1, 10), 0.7717781731343324), ((1, 11), 0.24141679589335333), ((1, 14), 0.34526449031521483), ((1, 17), 0.19927403056944898), ((1, 18), 0.687548274417609), ((1, 21), 0.6823306317169067), ((1, 24), 0.45707011255421953), ((1, 25), 0.6511865480756229), ((1, 27), 0.5377743664343193), ((1, 28), 0.672632798071684), ((1, 31), 0.8043854469000988), ((1, 32), 0.39832303042154493), ((1, 34), 0.7493437451750528), ((1, 35), 0.021335787971347338), ((1, 38), 0.355175330021003), ((1, 39), 0.6614001955946327), ((0, 0), 1.2803498999360592), ((0, 3), 0.7497206971748764), ((0, 6), 0.8133402188071177), ((0, 7), 1.2572073957524137), ((0, 10), 1.1941926316320979), ((0, 13), 1.324760437721257), ((0, 14), 0.5298768985592797), ((0, 17), 0.3272255372922642), ((0, 20), 1.0563058803023422), ((0, 21), 1.052108290056148), ((0, 24), 0.6920411002196005), ((0, 27), 0.8506562599328358), ((0, 28), 1.0578111307735705), ((0, 30), 0.6213529745146882), ((0, 31), 1.2228905826914478), ((0, 34), 1.1506428032531824), ((0, 35), 0.03463890090560875), ((0, 37), 1.2424147553496152), ((0, 38), 0.5550474377108486), ((1, 2), 0.9451985271064425), ((1, 5), 0.8290960279693029), ((1, 6), 0.523290472982154), ((1, 8), 0.6789698119154037), ((1, 9), 0.4525617586358854), ((1, 12), 0.45596330377964295), ((1, 13), 0.864064620347569), ((1, 15), 0.9360810635649319), ((1, 16), 0.7019211112395399), ((1, 19), 0.40221639892024197), ((1, 20), 0.6882779946702485), ((1, 22), 0.4925849415445743), ((1, 23), 0.7114974236328597), ((1, 26), 0.5883706065007331), ((1, 29), 0.179729311697496), ((1, 30), 0.401422487533418), ((1, 33), 0.4082480880692994), ((1, 36), 0.39546397481957285), ((1, 37), 0.8043264842421256)]\n"
     ]
    },
    {
     "data": {
      "text/plain": [
       "True"
      ]
     },
     "execution_count": 112,
     "metadata": {},
     "output_type": "execute_result"
    }
   ],
   "source": [
    "# Определение размеров матриц\n",
    "I = 2  # Количество строк первой матрицы и строк в итоговой матрице\n",
    "J = 3  # Количество столбцов первой матрицы и строк второй матрицы\n",
    "K = 4*10  # Количество столбцов второй матрицы и столбцов в итоговой матрице\n",
    "\n",
    "# Генерация случайных матриц\n",
    "small_mat = np.random.rand(I, J)  # Генерация первой матрицы\n",
    "big_mat = np.random.rand(J, K)  # Генерация второй матрицы\n",
    "\n",
    "# Получение эталонного решения через умножение матриц\n",
    "reference_solution = np.matmul(small_mat, big_mat)\n",
    "\n",
    "# Функция для \"разглаживания\" вложенных итерируемых объектов\n",
    "def flatten(nested_iterable):\n",
    "  for iterable in nested_iterable:\n",
    "    for element in iterable:\n",
    "      yield element\n",
    "\n",
    "# Функция для группировки элементов по ключу\n",
    "def groupbykey(iterable):\n",
    "  t = {}\n",
    "  for (k2, v2) in iterable:\n",
    "    t[k2] = t.get(k2, []) + [v2]\n",
    "  return t.items()\n",
    "\n",
    "# Функция для распределенной группировки элементов по ключу\n",
    "def groupbykey_distributed(map_partitions, PARTITIONER):\n",
    "  global reducers\n",
    "  partitions = [dict() for _ in range(reducers)]\n",
    "  for map_partition in map_partitions:\n",
    "    for (k2, v2) in map_partition:\n",
    "      p = partitions[PARTITIONER(k2)]\n",
    "      p[k2] = p.get(k2, []) + [v2]\n",
    "  return [(partition_id, sorted(partition.items(), key=lambda x: x[0])) for (partition_id, partition) in enumerate(partitions)]\n",
    "\n",
    "# Функция для определения разделителя (по ключу)\n",
    "def PARTITIONER(obj):\n",
    "  global reducers\n",
    "  return hash(obj) % reducers\n",
    "\n",
    "# Функция для выполнения MapReduce на распределенных данных\n",
    "def MapReduceDistributed(INPUTFORMAT, MAP, REDUCE, PARTITIONER=PARTITIONER, COMBINER=None):\n",
    "  map_partitions = map(lambda record_reader: flatten(map(lambda k1v1: MAP(*k1v1), record_reader)), INPUTFORMAT())\n",
    "\n",
    "  if COMBINER != None:\n",
    "    map_partitions = map(lambda map_partition: flatten(map(lambda k2v2: COMBINER(*k2v2), groupbykey(map_partition))), map_partitions)\n",
    "\n",
    "  reduce_partitions = groupbykey_distributed(map_partitions, PARTITIONER)  # shuffle\n",
    "\n",
    "  reduce_outputs = map(lambda reduce_partition: (reduce_partition[0], flatten(map(lambda reduce_input_group: REDUCE(*reduce_input_group), reduce_partition[1]))), reduce_partitions)\n",
    "\n",
    "  print(\"{} key-value pairs were sent over a network.\".format(sum([len(vs) for (k,vs) in flatten([partition for (partition_id, partition) in reduce_partitions])])))\n",
    "  return reduce_outputs\n",
    "\n",
    "# Функция для преобразования результата REDUCE в матрицу\n",
    "def asmatrix(reduce_output):\n",
    "  reduce_output = list(reduce_output)\n",
    "  I = max(i for ((i,k), vw) in reduce_output) + 1\n",
    "  K = max(k for ((i,k), vw) in reduce_output) + 1\n",
    "  mat = np.empty(shape=(I,K))\n",
    "  for ((i,k), vw) in reduce_output:\n",
    "    mat[i,k] = vw\n",
    "  return mat\n",
    "\n",
    "# Генератор для вводных данных\n",
    "def INPUTFORMAT():\n",
    "  first_mat = []\n",
    "\n",
    "  for i in range(small_mat.shape[0]):\n",
    "    for j in range(small_mat.shape[1]):\n",
    "      first_mat.append(((0, i, j), small_mat[i,j]))  # первая матрица\n",
    "\n",
    "  global maps\n",
    "  split_size = int(np.ceil(len(first_mat)/maps))\n",
    "\n",
    "  for i in range(0, len(first_mat), split_size):\n",
    "    yield first_mat[i:i+split_size]\n",
    "\n",
    "  second_mat = []\n",
    "\n",
    "  for j in range(big_mat.shape[0]):\n",
    "    for k in range(big_mat.shape[1]):\n",
    "      second_mat.append(((1, j, k), big_mat[j,k]))  # вторая матрица\n",
    "\n",
    "  split_size = int(np.ceil(len(second_mat)/maps))\n",
    "\n",
    "  for i in range(0, len(second_mat), split_size):\n",
    "    yield second_mat[i:i+split_size]\n",
    "\n",
    "# MAP функция для соединения матриц\n",
    "def MAP_JOIN(k1, v1):\n",
    "  (mat_num, i, j) = k1\n",
    "  w = v1\n",
    "\n",
    "  if mat_num == 0:\n",
    "    yield (j, (mat_num, i, w))\n",
    "\n",
    "  else:\n",
    "    yield (i, (mat_num, j, w))\n",
    "\n",
    "# REDUCE функция для соединения матриц\n",
    "def REDUCE_JOIN(key, values):\n",
    "  from_first_mat = [v for v in values if v[0] == 0]\n",
    "  from_second_mat = [v for v in values if v[0] == 1]\n",
    "\n",
    "  for f in from_first_mat:\n",
    "    for s in from_second_mat:\n",
    "      yield ((f[1], s[1]), f[2] * s[2])\n",
    "\n",
    "# Генератор для получения соединенных данных\n",
    "def GET_JOINED():\n",
    "\n",
    "  for j in joined:\n",
    "    print(\"aa\", j)\n",
    "    yield j[1]\n",
    "\n",
    "# MAP функция для умножения значений\n",
    "def MAP_MUL(k1, v1):\n",
    "  yield (k1, v1)\n",
    "\n",
    "# REDUCE функция для умножения значений\n",
    "def REDUCE_MUL(key, values):\n",
    "  res_val = 0\n",
    "\n",
    "  for v in values:\n",
    "    res_val += v\n",
    "  yield (key, res_val)\n",
    "\n",
    "maps = 3\n",
    "reducers = 2\n",
    "\n",
    "# Выполнение MapReduce для соединения матриц\n",
    "partitioned_output = MapReduceDistributed(INPUTFORMAT, MAP_JOIN, REDUCE_JOIN, COMBINER=None)\n",
    "joined = [(partition_id, list(partition)) for (partition_id, partition) in partitioned_output]\n",
    "print(joined)\n",
    "\n",
    "# Выполнение MapReduce для умножения значений\n",
    "mul_output = MapReduceDistributed(GET_JOINED, MAP_MUL, REDUCE_MUL, COMBINER=None)\n",
    "pre_result = [(partition_id, list(partition)) for (partition_id, partition) in mul_output]\n",
    "print(pre_result)\n",
    "\n",
    "solution = []\n",
    "\n",
    "for p in pre_result:\n",
    "\n",
    "  for v in p[1]:\n",
    "    solution.append(v)\n",
    "\n",
    "print(solution)\n",
    "\n",
    "np.allclose(reference_solution, asmatrix(solution))"
   ]
  },
  {
   "cell_type": "code",
   "execution_count": null,
   "metadata": {},
   "outputs": [],
   "source": []
  }
 ],
 "metadata": {
  "colab": {
   "provenance": []
  },
  "kernelspec": {
   "display_name": "Python 3 (ipykernel)",
   "language": "python",
   "name": "python3"
  },
  "language_info": {
   "codemirror_mode": {
    "name": "ipython",
    "version": 3
   },
   "file_extension": ".py",
   "mimetype": "text/x-python",
   "name": "python",
   "nbconvert_exporter": "python",
   "pygments_lexer": "ipython3",
   "version": "3.12.4"
  }
 },
 "nbformat": 4,
 "nbformat_minor": 4
}
